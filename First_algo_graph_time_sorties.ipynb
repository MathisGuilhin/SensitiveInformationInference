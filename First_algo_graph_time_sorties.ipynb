{
 "cells": [
  {
   "cell_type": "code",
   "execution_count": 31,
   "metadata": {},
   "outputs": [],
   "source": [
    "import pandas as pd\n",
    "\n",
    "df_wifi = pd.read_csv('privamov/privamov-wifi', sep='\\t', nrows=10000000, header=None, names=['id', 'timestamp','wifi'], parse_dates=['timestamp'], index_col='timestamp')"
   ]
  },
  {
   "cell_type": "code",
   "execution_count": 32,
   "metadata": {},
   "outputs": [
    {
     "output_type": "execute_result",
     "data": {
      "text/plain": [
       "                         id               wifi\n",
       "timestamp                                     \n",
       "2014-10-06 12:56:50.500   1  84:a6:c8:a9:c2:d9\n",
       "2014-10-06 12:56:50.510   1  9c:1c:12:24:b4:d1\n",
       "2014-10-06 12:56:50.515   1  9c:1c:12:24:af:31\n",
       "2014-10-06 12:56:50.516   1  9c:1c:12:2b:c3:f1\n",
       "2014-10-04 19:43:14.986   1  20:e5:2a:5b:bf:e0\n",
       "...                      ..                ...\n",
       "2015-04-17 11:54:21.940   8  24:de:c6:49:ed:21\n",
       "2015-04-17 11:54:21.941   8  00:0b:86:86:0f:60\n",
       "2015-04-17 11:54:21.941   8  00:1a:1e:c4:7b:e1\n",
       "2015-04-17 11:56:42.578   8  24:de:c6:9a:7b:c1\n",
       "2015-04-17 11:54:21.941   8  00:1a:1e:c4:7b:e4\n",
       "\n",
       "[10000000 rows x 2 columns]"
      ],
      "text/html": "<div>\n<style scoped>\n    .dataframe tbody tr th:only-of-type {\n        vertical-align: middle;\n    }\n\n    .dataframe tbody tr th {\n        vertical-align: top;\n    }\n\n    .dataframe thead th {\n        text-align: right;\n    }\n</style>\n<table border=\"1\" class=\"dataframe\">\n  <thead>\n    <tr style=\"text-align: right;\">\n      <th></th>\n      <th>id</th>\n      <th>wifi</th>\n    </tr>\n    <tr>\n      <th>timestamp</th>\n      <th></th>\n      <th></th>\n    </tr>\n  </thead>\n  <tbody>\n    <tr>\n      <th>2014-10-06 12:56:50.500</th>\n      <td>1</td>\n      <td>84:a6:c8:a9:c2:d9</td>\n    </tr>\n    <tr>\n      <th>2014-10-06 12:56:50.510</th>\n      <td>1</td>\n      <td>9c:1c:12:24:b4:d1</td>\n    </tr>\n    <tr>\n      <th>2014-10-06 12:56:50.515</th>\n      <td>1</td>\n      <td>9c:1c:12:24:af:31</td>\n    </tr>\n    <tr>\n      <th>2014-10-06 12:56:50.516</th>\n      <td>1</td>\n      <td>9c:1c:12:2b:c3:f1</td>\n    </tr>\n    <tr>\n      <th>2014-10-04 19:43:14.986</th>\n      <td>1</td>\n      <td>20:e5:2a:5b:bf:e0</td>\n    </tr>\n    <tr>\n      <th>...</th>\n      <td>...</td>\n      <td>...</td>\n    </tr>\n    <tr>\n      <th>2015-04-17 11:54:21.940</th>\n      <td>8</td>\n      <td>24:de:c6:49:ed:21</td>\n    </tr>\n    <tr>\n      <th>2015-04-17 11:54:21.941</th>\n      <td>8</td>\n      <td>00:0b:86:86:0f:60</td>\n    </tr>\n    <tr>\n      <th>2015-04-17 11:54:21.941</th>\n      <td>8</td>\n      <td>00:1a:1e:c4:7b:e1</td>\n    </tr>\n    <tr>\n      <th>2015-04-17 11:56:42.578</th>\n      <td>8</td>\n      <td>24:de:c6:9a:7b:c1</td>\n    </tr>\n    <tr>\n      <th>2015-04-17 11:54:21.941</th>\n      <td>8</td>\n      <td>00:1a:1e:c4:7b:e4</td>\n    </tr>\n  </tbody>\n</table>\n<p>10000000 rows × 2 columns</p>\n</div>"
     },
     "metadata": {},
     "execution_count": 32
    }
   ],
   "source": [
    "df_wifi"
   ]
  },
  {
   "cell_type": "code",
   "execution_count": 33,
   "metadata": {},
   "outputs": [
    {
     "output_type": "execute_result",
     "data": {
      "text/plain": [
       "                         id               wifi\n",
       "timestamp                                     \n",
       "2014-10-04 19:43:14.986   1  20:e5:2a:5b:bf:e0\n",
       "2014-10-13 19:39:22.456   2  00:26:44:f0:d7:bb\n",
       "2014-10-13 19:39:22.467   2  42:01:40:59:9f:3f\n",
       "2014-10-13 19:39:22.470   2  42:01:40:59:9f:3c\n",
       "2014-10-13 19:39:22.479   2  62:26:44:f0:d7:b8\n",
       "...                      ..                ...\n",
       "2015-04-16 19:34:29.006   8  84:18:3a:1a:b2:48\n",
       "2015-04-17 04:07:57.234   8  00:19:70:b5:d9:37\n",
       "2015-04-17 04:07:57.234   8  40:5a:9b:53:36:13\n",
       "2015-04-17 04:07:57.236   8  7e:bd:4c:4e:12:98\n",
       "2015-04-17 04:07:57.236   8  d2:25:15:eb:24:2f\n",
       "\n",
       "[3626376 rows x 2 columns]"
      ],
      "text/html": "<div>\n<style scoped>\n    .dataframe tbody tr th:only-of-type {\n        vertical-align: middle;\n    }\n\n    .dataframe tbody tr th {\n        vertical-align: top;\n    }\n\n    .dataframe thead th {\n        text-align: right;\n    }\n</style>\n<table border=\"1\" class=\"dataframe\">\n  <thead>\n    <tr style=\"text-align: right;\">\n      <th></th>\n      <th>id</th>\n      <th>wifi</th>\n    </tr>\n    <tr>\n      <th>timestamp</th>\n      <th></th>\n      <th></th>\n    </tr>\n  </thead>\n  <tbody>\n    <tr>\n      <th>2014-10-04 19:43:14.986</th>\n      <td>1</td>\n      <td>20:e5:2a:5b:bf:e0</td>\n    </tr>\n    <tr>\n      <th>2014-10-13 19:39:22.456</th>\n      <td>2</td>\n      <td>00:26:44:f0:d7:bb</td>\n    </tr>\n    <tr>\n      <th>2014-10-13 19:39:22.467</th>\n      <td>2</td>\n      <td>42:01:40:59:9f:3f</td>\n    </tr>\n    <tr>\n      <th>2014-10-13 19:39:22.470</th>\n      <td>2</td>\n      <td>42:01:40:59:9f:3c</td>\n    </tr>\n    <tr>\n      <th>2014-10-13 19:39:22.479</th>\n      <td>2</td>\n      <td>62:26:44:f0:d7:b8</td>\n    </tr>\n    <tr>\n      <th>...</th>\n      <td>...</td>\n      <td>...</td>\n    </tr>\n    <tr>\n      <th>2015-04-16 19:34:29.006</th>\n      <td>8</td>\n      <td>84:18:3a:1a:b2:48</td>\n    </tr>\n    <tr>\n      <th>2015-04-17 04:07:57.234</th>\n      <td>8</td>\n      <td>00:19:70:b5:d9:37</td>\n    </tr>\n    <tr>\n      <th>2015-04-17 04:07:57.234</th>\n      <td>8</td>\n      <td>40:5a:9b:53:36:13</td>\n    </tr>\n    <tr>\n      <th>2015-04-17 04:07:57.236</th>\n      <td>8</td>\n      <td>7e:bd:4c:4e:12:98</td>\n    </tr>\n    <tr>\n      <th>2015-04-17 04:07:57.236</th>\n      <td>8</td>\n      <td>d2:25:15:eb:24:2f</td>\n    </tr>\n  </tbody>\n</table>\n<p>3626376 rows × 2 columns</p>\n</div>"
     },
     "metadata": {},
     "execution_count": 33
    }
   ],
   "source": [
    "df_wifi_timerange= df_wifi.between_time('19:00', '6:00')\n",
    "df_wifi_timerange"
   ]
  },
  {
   "cell_type": "code",
   "execution_count": 34,
   "metadata": {},
   "outputs": [
    {
     "output_type": "execute_result",
     "data": {
      "text/plain": [
       "                    wifi  id  count\n",
       "0      00:01:36:13:9d:74  41      2\n",
       "1      00:01:36:58:e0:54  22      2\n",
       "2      00:01:8e:e4:dc:0a   8      2\n",
       "3      00:01:e3:c9:79:9a  66      2\n",
       "4      00:02:6f:32:d5:2c  41      6\n",
       "...                  ...  ..    ...\n",
       "90819  fe:e1:cb:4b:05:a6  41      2\n",
       "90820  fe:e1:cb:4b:05:a6  67      3\n",
       "90821  fe:e1:cb:4b:05:a7  67      3\n",
       "90822  fe:e8:ef:75:19:35   1      2\n",
       "90823  fe:f5:28:ca:c6:11   8      2\n",
       "\n",
       "[90824 rows x 3 columns]"
      ],
      "text/html": "<div>\n<style scoped>\n    .dataframe tbody tr th:only-of-type {\n        vertical-align: middle;\n    }\n\n    .dataframe tbody tr th {\n        vertical-align: top;\n    }\n\n    .dataframe thead th {\n        text-align: right;\n    }\n</style>\n<table border=\"1\" class=\"dataframe\">\n  <thead>\n    <tr style=\"text-align: right;\">\n      <th></th>\n      <th>wifi</th>\n      <th>id</th>\n      <th>count</th>\n    </tr>\n  </thead>\n  <tbody>\n    <tr>\n      <th>0</th>\n      <td>00:01:36:13:9d:74</td>\n      <td>41</td>\n      <td>2</td>\n    </tr>\n    <tr>\n      <th>1</th>\n      <td>00:01:36:58:e0:54</td>\n      <td>22</td>\n      <td>2</td>\n    </tr>\n    <tr>\n      <th>2</th>\n      <td>00:01:8e:e4:dc:0a</td>\n      <td>8</td>\n      <td>2</td>\n    </tr>\n    <tr>\n      <th>3</th>\n      <td>00:01:e3:c9:79:9a</td>\n      <td>66</td>\n      <td>2</td>\n    </tr>\n    <tr>\n      <th>4</th>\n      <td>00:02:6f:32:d5:2c</td>\n      <td>41</td>\n      <td>6</td>\n    </tr>\n    <tr>\n      <th>...</th>\n      <td>...</td>\n      <td>...</td>\n      <td>...</td>\n    </tr>\n    <tr>\n      <th>90819</th>\n      <td>fe:e1:cb:4b:05:a6</td>\n      <td>41</td>\n      <td>2</td>\n    </tr>\n    <tr>\n      <th>90820</th>\n      <td>fe:e1:cb:4b:05:a6</td>\n      <td>67</td>\n      <td>3</td>\n    </tr>\n    <tr>\n      <th>90821</th>\n      <td>fe:e1:cb:4b:05:a7</td>\n      <td>67</td>\n      <td>3</td>\n    </tr>\n    <tr>\n      <th>90822</th>\n      <td>fe:e8:ef:75:19:35</td>\n      <td>1</td>\n      <td>2</td>\n    </tr>\n    <tr>\n      <th>90823</th>\n      <td>fe:f5:28:ca:c6:11</td>\n      <td>8</td>\n      <td>2</td>\n    </tr>\n  </tbody>\n</table>\n<p>90824 rows × 3 columns</p>\n</div>"
     },
     "metadata": {},
     "execution_count": 34
    }
   ],
   "source": [
    "df_wifi_update=pd.DataFrame({'count' : df_wifi_timerange.groupby( [ \"wifi\", \"id\"] ).size()}).reset_index()\n",
    "df_wifi_update"
   ]
  },
  {
   "cell_type": "code",
   "execution_count": 35,
   "metadata": {},
   "outputs": [
    {
     "output_type": "execute_result",
     "data": {
      "text/plain": [
       "    id  count\n",
       "0    1  11728\n",
       "1    2   1640\n",
       "2    5     18\n",
       "3    6   2502\n",
       "4    7    278\n",
       "..  ..    ...\n",
       "63  79     57\n",
       "64  81   1304\n",
       "65  82     24\n",
       "66  83    412\n",
       "67  84    637\n",
       "\n",
       "[68 rows x 2 columns]"
      ],
      "text/html": "<div>\n<style scoped>\n    .dataframe tbody tr th:only-of-type {\n        vertical-align: middle;\n    }\n\n    .dataframe tbody tr th {\n        vertical-align: top;\n    }\n\n    .dataframe thead th {\n        text-align: right;\n    }\n</style>\n<table border=\"1\" class=\"dataframe\">\n  <thead>\n    <tr style=\"text-align: right;\">\n      <th></th>\n      <th>id</th>\n      <th>count</th>\n    </tr>\n  </thead>\n  <tbody>\n    <tr>\n      <th>0</th>\n      <td>1</td>\n      <td>11728</td>\n    </tr>\n    <tr>\n      <th>1</th>\n      <td>2</td>\n      <td>1640</td>\n    </tr>\n    <tr>\n      <th>2</th>\n      <td>5</td>\n      <td>18</td>\n    </tr>\n    <tr>\n      <th>3</th>\n      <td>6</td>\n      <td>2502</td>\n    </tr>\n    <tr>\n      <th>4</th>\n      <td>7</td>\n      <td>278</td>\n    </tr>\n    <tr>\n      <th>...</th>\n      <td>...</td>\n      <td>...</td>\n    </tr>\n    <tr>\n      <th>63</th>\n      <td>79</td>\n      <td>57</td>\n    </tr>\n    <tr>\n      <th>64</th>\n      <td>81</td>\n      <td>1304</td>\n    </tr>\n    <tr>\n      <th>65</th>\n      <td>82</td>\n      <td>24</td>\n    </tr>\n    <tr>\n      <th>66</th>\n      <td>83</td>\n      <td>412</td>\n    </tr>\n    <tr>\n      <th>67</th>\n      <td>84</td>\n      <td>637</td>\n    </tr>\n  </tbody>\n</table>\n<p>68 rows × 2 columns</p>\n</div>"
     },
     "metadata": {},
     "execution_count": 35
    }
   ],
   "source": [
    "df_wifi_nb=pd.DataFrame({'count' : df_wifi_update.groupby( [\"id\"] ).size()}).reset_index()\n",
    "df_wifi_nb"
   ]
  },
  {
   "source": [
    "## On a compté pour chaque personne le nombre de réseaux wifi différents qu'ils croisent sur la plage horaire 19h-6h\n",
    "## On peut trier par taille pour les classer du plus \"extraverti\" au plus \"introverti\""
   ],
   "cell_type": "markdown",
   "metadata": {}
  },
  {
   "cell_type": "code",
   "execution_count": 36,
   "metadata": {},
   "outputs": [
    {
     "output_type": "execute_result",
     "data": {
      "text/plain": [
       "    id  count\n",
       "0    1  11728\n",
       "5    8   9750\n",
       "36  44   8280\n",
       "33  41   7081\n",
       "54  67   5198\n",
       "..  ..    ...\n",
       "55  68     23\n",
       "2    5     18\n",
       "47  60     15\n",
       "50  63     14\n",
       "7   10     12\n",
       "\n",
       "[68 rows x 2 columns]"
      ],
      "text/html": "<div>\n<style scoped>\n    .dataframe tbody tr th:only-of-type {\n        vertical-align: middle;\n    }\n\n    .dataframe tbody tr th {\n        vertical-align: top;\n    }\n\n    .dataframe thead th {\n        text-align: right;\n    }\n</style>\n<table border=\"1\" class=\"dataframe\">\n  <thead>\n    <tr style=\"text-align: right;\">\n      <th></th>\n      <th>id</th>\n      <th>count</th>\n    </tr>\n  </thead>\n  <tbody>\n    <tr>\n      <th>0</th>\n      <td>1</td>\n      <td>11728</td>\n    </tr>\n    <tr>\n      <th>5</th>\n      <td>8</td>\n      <td>9750</td>\n    </tr>\n    <tr>\n      <th>36</th>\n      <td>44</td>\n      <td>8280</td>\n    </tr>\n    <tr>\n      <th>33</th>\n      <td>41</td>\n      <td>7081</td>\n    </tr>\n    <tr>\n      <th>54</th>\n      <td>67</td>\n      <td>5198</td>\n    </tr>\n    <tr>\n      <th>...</th>\n      <td>...</td>\n      <td>...</td>\n    </tr>\n    <tr>\n      <th>55</th>\n      <td>68</td>\n      <td>23</td>\n    </tr>\n    <tr>\n      <th>2</th>\n      <td>5</td>\n      <td>18</td>\n    </tr>\n    <tr>\n      <th>47</th>\n      <td>60</td>\n      <td>15</td>\n    </tr>\n    <tr>\n      <th>50</th>\n      <td>63</td>\n      <td>14</td>\n    </tr>\n    <tr>\n      <th>7</th>\n      <td>10</td>\n      <td>12</td>\n    </tr>\n  </tbody>\n</table>\n<p>68 rows × 2 columns</p>\n</div>"
     },
     "metadata": {},
     "execution_count": 36
    }
   ],
   "source": [
    "df_wifi_nb_sorted = df_wifi_nb.sort_values(by=['count'], ascending=False)\n",
    "df_wifi_nb_sorted"
   ]
  }
 ],
 "metadata": {
  "kernelspec": {
   "display_name": "Python 3",
   "language": "python",
   "name": "python3"
  },
  "language_info": {
   "codemirror_mode": {
    "name": "ipython",
    "version": 3
   },
   "file_extension": ".py",
   "mimetype": "text/x-python",
   "name": "python",
   "nbconvert_exporter": "python",
   "pygments_lexer": "ipython3",
   "version": "3.9.0-final"
  }
 },
 "nbformat": 4,
 "nbformat_minor": 4
}