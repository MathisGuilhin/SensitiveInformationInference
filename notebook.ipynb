{
 "metadata": {
  "language_info": {
   "codemirror_mode": {
    "name": "ipython",
    "version": 3
   },
   "file_extension": ".py",
   "mimetype": "text/x-python",
   "name": "python",
   "nbconvert_exporter": "python",
   "pygments_lexer": "ipython3",
   "version": "3.9.0-final"
  },
  "orig_nbformat": 2,
  "kernelspec": {
   "name": "python3",
   "display_name": "Python 3.9.0 64-bit",
   "metadata": {
    "interpreter": {
     "hash": "eb43fe1adfcf29b3ef7a41a6a5867cd4ae858fdb4051b87282132ca3422dabb0"
    }
   }
  }
 },
 "nbformat": 4,
 "nbformat_minor": 2,
 "cells": [
  {
   "cell_type": "code",
   "execution_count": 8,
   "metadata": {},
   "outputs": [
    {
     "output_type": "execute_result",
     "data": {
      "text/plain": [
       "'1\\t2014-10-04 08:40:42.085\\t3.68737333333333\\t43.4094833333333\\n'"
      ]
     },
     "metadata": {},
     "execution_count": 8
    }
   ],
   "source": [
    "with open('privamov-gps') as f:\n",
    "    first_line = f.readline()\n",
    "first_line"
   ]
  },
  {
   "cell_type": "code",
   "execution_count": 9,
   "metadata": {},
   "outputs": [
    {
     "output_type": "execute_result",
     "data": {
      "text/plain": [
       "                    0               2               3\n",
       "count  1000000.000000  1000000.000000  1000000.000000\n",
       "mean         3.693581        4.481320       44.799853\n",
       "std          9.060607        1.166696        1.155033\n",
       "min          1.000000        1.228800       42.110610\n",
       "25%          1.000000        3.687545       43.409560\n",
       "50%          1.000000        4.873048       45.186603\n",
       "75%          7.000000        5.146427       45.782102\n",
       "max        107.000000        5.796285       50.639148"
      ],
      "text/html": "<div>\n<style scoped>\n    .dataframe tbody tr th:only-of-type {\n        vertical-align: middle;\n    }\n\n    .dataframe tbody tr th {\n        vertical-align: top;\n    }\n\n    .dataframe thead th {\n        text-align: right;\n    }\n</style>\n<table border=\"1\" class=\"dataframe\">\n  <thead>\n    <tr style=\"text-align: right;\">\n      <th></th>\n      <th>0</th>\n      <th>2</th>\n      <th>3</th>\n    </tr>\n  </thead>\n  <tbody>\n    <tr>\n      <th>count</th>\n      <td>1000000.000000</td>\n      <td>1000000.000000</td>\n      <td>1000000.000000</td>\n    </tr>\n    <tr>\n      <th>mean</th>\n      <td>3.693581</td>\n      <td>4.481320</td>\n      <td>44.799853</td>\n    </tr>\n    <tr>\n      <th>std</th>\n      <td>9.060607</td>\n      <td>1.166696</td>\n      <td>1.155033</td>\n    </tr>\n    <tr>\n      <th>min</th>\n      <td>1.000000</td>\n      <td>1.228800</td>\n      <td>42.110610</td>\n    </tr>\n    <tr>\n      <th>25%</th>\n      <td>1.000000</td>\n      <td>3.687545</td>\n      <td>43.409560</td>\n    </tr>\n    <tr>\n      <th>50%</th>\n      <td>1.000000</td>\n      <td>4.873048</td>\n      <td>45.186603</td>\n    </tr>\n    <tr>\n      <th>75%</th>\n      <td>7.000000</td>\n      <td>5.146427</td>\n      <td>45.782102</td>\n    </tr>\n    <tr>\n      <th>max</th>\n      <td>107.000000</td>\n      <td>5.796285</td>\n      <td>50.639148</td>\n    </tr>\n  </tbody>\n</table>\n</div>"
     },
     "metadata": {},
     "execution_count": 9
    }
   ],
   "source": [
    "import pandas as pd\n",
    "\n",
    "df_gps = pd.read_csv('privamov-gps', sep='\\t', nrows=1000000, header=None)\n",
    "df_gps.describe()"
   ]
  },
  {
   "cell_type": "code",
   "execution_count": null,
   "metadata": {},
   "outputs": [],
   "source": []
  }
 ]
}