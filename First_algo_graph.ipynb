{
 "cells": [
  {
   "cell_type": "code",
   "execution_count": 1,
   "metadata": {},
   "outputs": [],
   "source": [
    "import pandas as pd\n",
    "\n",
    "df_wifi = pd.read_csv('privamov/privamov-wifi', sep='\\t', nrows=100000, header=None, names=['id', 'timestamp','wifi'])"
   ]
  },
  {
   "cell_type": "code",
   "execution_count": 2,
   "metadata": {},
   "outputs": [
    {
     "output_type": "execute_result",
     "data": {
      "text/plain": [
       "       id                timestamp               wifi\n",
       "0       1    2014-10-06 12:56:50.5  84:a6:c8:a9:c2:d9\n",
       "1       1   2014-10-06 12:56:50.51  9c:1c:12:24:b4:d1\n",
       "2       1  2014-10-06 12:56:50.515  9c:1c:12:24:af:31\n",
       "3       1  2014-10-06 12:56:50.516  9c:1c:12:2b:c3:f1\n",
       "4       1  2014-10-04 19:43:14.986  20:e5:2a:5b:bf:e0\n",
       "...    ..                      ...                ...\n",
       "99995   1  2014-11-27 18:34:28.154  00:0b:86:e1:25:e3\n",
       "99996   1  2014-11-27 18:34:28.158  00:0b:86:e1:25:e0\n",
       "99997   1  2014-11-27 18:34:28.164  2e:c0:39:b5:ac:5f\n",
       "99998   1  2014-11-27 18:34:28.171  2e:c0:39:b5:ac:5c\n",
       "99999   1  2014-11-27 18:34:28.174  d8:eb:97:a1:58:70\n",
       "\n",
       "[100000 rows x 3 columns]"
      ],
      "text/html": "<div>\n<style scoped>\n    .dataframe tbody tr th:only-of-type {\n        vertical-align: middle;\n    }\n\n    .dataframe tbody tr th {\n        vertical-align: top;\n    }\n\n    .dataframe thead th {\n        text-align: right;\n    }\n</style>\n<table border=\"1\" class=\"dataframe\">\n  <thead>\n    <tr style=\"text-align: right;\">\n      <th></th>\n      <th>id</th>\n      <th>timestamp</th>\n      <th>wifi</th>\n    </tr>\n  </thead>\n  <tbody>\n    <tr>\n      <th>0</th>\n      <td>1</td>\n      <td>2014-10-06 12:56:50.5</td>\n      <td>84:a6:c8:a9:c2:d9</td>\n    </tr>\n    <tr>\n      <th>1</th>\n      <td>1</td>\n      <td>2014-10-06 12:56:50.51</td>\n      <td>9c:1c:12:24:b4:d1</td>\n    </tr>\n    <tr>\n      <th>2</th>\n      <td>1</td>\n      <td>2014-10-06 12:56:50.515</td>\n      <td>9c:1c:12:24:af:31</td>\n    </tr>\n    <tr>\n      <th>3</th>\n      <td>1</td>\n      <td>2014-10-06 12:56:50.516</td>\n      <td>9c:1c:12:2b:c3:f1</td>\n    </tr>\n    <tr>\n      <th>4</th>\n      <td>1</td>\n      <td>2014-10-04 19:43:14.986</td>\n      <td>20:e5:2a:5b:bf:e0</td>\n    </tr>\n    <tr>\n      <th>...</th>\n      <td>...</td>\n      <td>...</td>\n      <td>...</td>\n    </tr>\n    <tr>\n      <th>99995</th>\n      <td>1</td>\n      <td>2014-11-27 18:34:28.154</td>\n      <td>00:0b:86:e1:25:e3</td>\n    </tr>\n    <tr>\n      <th>99996</th>\n      <td>1</td>\n      <td>2014-11-27 18:34:28.158</td>\n      <td>00:0b:86:e1:25:e0</td>\n    </tr>\n    <tr>\n      <th>99997</th>\n      <td>1</td>\n      <td>2014-11-27 18:34:28.164</td>\n      <td>2e:c0:39:b5:ac:5f</td>\n    </tr>\n    <tr>\n      <th>99998</th>\n      <td>1</td>\n      <td>2014-11-27 18:34:28.171</td>\n      <td>2e:c0:39:b5:ac:5c</td>\n    </tr>\n    <tr>\n      <th>99999</th>\n      <td>1</td>\n      <td>2014-11-27 18:34:28.174</td>\n      <td>d8:eb:97:a1:58:70</td>\n    </tr>\n  </tbody>\n</table>\n<p>100000 rows × 3 columns</p>\n</div>"
     },
     "metadata": {},
     "execution_count": 2
    }
   ],
   "source": [
    "df_wifi"
   ]
  },
  {
   "cell_type": "code",
   "execution_count": 3,
   "metadata": {},
   "outputs": [
    {
     "output_type": "execute_result",
     "data": {
      "text/plain": [
       "                   wifi  id  count\n",
       "0     00:03:52:af:00:10   1     14\n",
       "1     00:03:52:af:00:11   1      1\n",
       "2     00:04:e2:e1:f7:30   1      2\n",
       "3     00:06:25:4a:e0:a6   7      2\n",
       "4     00:07:cb:01:13:24   7      4\n",
       "...                 ...  ..    ...\n",
       "5287  fe:77:dc:ba:af:68   1     19\n",
       "5288  fe:77:dc:ba:af:69   1     18\n",
       "5289  fe:77:dc:ba:af:6a   1     20\n",
       "5290  fe:77:dc:ba:af:6b   1     17\n",
       "5291  fe:df:a8:d0:03:8b   1     10\n",
       "\n",
       "[5292 rows x 3 columns]"
      ],
      "text/html": "<div>\n<style scoped>\n    .dataframe tbody tr th:only-of-type {\n        vertical-align: middle;\n    }\n\n    .dataframe tbody tr th {\n        vertical-align: top;\n    }\n\n    .dataframe thead th {\n        text-align: right;\n    }\n</style>\n<table border=\"1\" class=\"dataframe\">\n  <thead>\n    <tr style=\"text-align: right;\">\n      <th></th>\n      <th>wifi</th>\n      <th>id</th>\n      <th>count</th>\n    </tr>\n  </thead>\n  <tbody>\n    <tr>\n      <th>0</th>\n      <td>00:03:52:af:00:10</td>\n      <td>1</td>\n      <td>14</td>\n    </tr>\n    <tr>\n      <th>1</th>\n      <td>00:03:52:af:00:11</td>\n      <td>1</td>\n      <td>1</td>\n    </tr>\n    <tr>\n      <th>2</th>\n      <td>00:04:e2:e1:f7:30</td>\n      <td>1</td>\n      <td>2</td>\n    </tr>\n    <tr>\n      <th>3</th>\n      <td>00:06:25:4a:e0:a6</td>\n      <td>7</td>\n      <td>2</td>\n    </tr>\n    <tr>\n      <th>4</th>\n      <td>00:07:cb:01:13:24</td>\n      <td>7</td>\n      <td>4</td>\n    </tr>\n    <tr>\n      <th>...</th>\n      <td>...</td>\n      <td>...</td>\n      <td>...</td>\n    </tr>\n    <tr>\n      <th>5287</th>\n      <td>fe:77:dc:ba:af:68</td>\n      <td>1</td>\n      <td>19</td>\n    </tr>\n    <tr>\n      <th>5288</th>\n      <td>fe:77:dc:ba:af:69</td>\n      <td>1</td>\n      <td>18</td>\n    </tr>\n    <tr>\n      <th>5289</th>\n      <td>fe:77:dc:ba:af:6a</td>\n      <td>1</td>\n      <td>20</td>\n    </tr>\n    <tr>\n      <th>5290</th>\n      <td>fe:77:dc:ba:af:6b</td>\n      <td>1</td>\n      <td>17</td>\n    </tr>\n    <tr>\n      <th>5291</th>\n      <td>fe:df:a8:d0:03:8b</td>\n      <td>1</td>\n      <td>10</td>\n    </tr>\n  </tbody>\n</table>\n<p>5292 rows × 3 columns</p>\n</div>"
     },
     "metadata": {},
     "execution_count": 3
    }
   ],
   "source": [
    "df_wifi_update=pd.DataFrame({'count' : df_wifi.groupby( [ \"wifi\", \"id\"] ).size()}).reset_index()\n",
    "df_wifi_update"
   ]
  },
  {
   "cell_type": "code",
   "execution_count": 4,
   "metadata": {},
   "outputs": [],
   "source": [
    "value_counts = df_wifi_update['wifi'].value_counts()\n",
    "\n",
    "# solution here\n",
    "df_val_counts = pd.DataFrame(value_counts)\n",
    "df_value_counts = df_val_counts.reset_index()\n",
    "df_value_counts.columns = ['wifi_unique', 'Nb_Id'] "
   ]
  },
  {
   "cell_type": "code",
   "execution_count": 5,
   "metadata": {},
   "outputs": [
    {
     "output_type": "execute_result",
     "data": {
      "text/plain": [
       "            wifi_unique  Nb_Id\n",
       "0     8a:8b:c5:d4:a6:78      3\n",
       "1     36:87:24:79:2a:62      3\n",
       "2     96:fe:f4:a3:3a:58      3\n",
       "3     9c:1c:12:2b:c4:70      3\n",
       "4     9c:1c:12:2b:c4:71      3\n",
       "...                 ...    ...\n",
       "5018  04:1e:64:eb:d1:90      1\n",
       "5019  f4:ca:e5:e2:fb:bc      1\n",
       "5020  f4:ca:e5:a9:5e:79      1\n",
       "5021  00:24:d4:59:45:e9      1\n",
       "5022  f4:ca:e5:fe:92:be      1\n",
       "\n",
       "[5023 rows x 2 columns]"
      ],
      "text/html": "<div>\n<style scoped>\n    .dataframe tbody tr th:only-of-type {\n        vertical-align: middle;\n    }\n\n    .dataframe tbody tr th {\n        vertical-align: top;\n    }\n\n    .dataframe thead th {\n        text-align: right;\n    }\n</style>\n<table border=\"1\" class=\"dataframe\">\n  <thead>\n    <tr style=\"text-align: right;\">\n      <th></th>\n      <th>wifi_unique</th>\n      <th>Nb_Id</th>\n    </tr>\n  </thead>\n  <tbody>\n    <tr>\n      <th>0</th>\n      <td>8a:8b:c5:d4:a6:78</td>\n      <td>3</td>\n    </tr>\n    <tr>\n      <th>1</th>\n      <td>36:87:24:79:2a:62</td>\n      <td>3</td>\n    </tr>\n    <tr>\n      <th>2</th>\n      <td>96:fe:f4:a3:3a:58</td>\n      <td>3</td>\n    </tr>\n    <tr>\n      <th>3</th>\n      <td>9c:1c:12:2b:c4:70</td>\n      <td>3</td>\n    </tr>\n    <tr>\n      <th>4</th>\n      <td>9c:1c:12:2b:c4:71</td>\n      <td>3</td>\n    </tr>\n    <tr>\n      <th>...</th>\n      <td>...</td>\n      <td>...</td>\n    </tr>\n    <tr>\n      <th>5018</th>\n      <td>04:1e:64:eb:d1:90</td>\n      <td>1</td>\n    </tr>\n    <tr>\n      <th>5019</th>\n      <td>f4:ca:e5:e2:fb:bc</td>\n      <td>1</td>\n    </tr>\n    <tr>\n      <th>5020</th>\n      <td>f4:ca:e5:a9:5e:79</td>\n      <td>1</td>\n    </tr>\n    <tr>\n      <th>5021</th>\n      <td>00:24:d4:59:45:e9</td>\n      <td>1</td>\n    </tr>\n    <tr>\n      <th>5022</th>\n      <td>f4:ca:e5:fe:92:be</td>\n      <td>1</td>\n    </tr>\n  </tbody>\n</table>\n<p>5023 rows × 2 columns</p>\n</div>"
     },
     "metadata": {},
     "execution_count": 5
    }
   ],
   "source": [
    "df_value_counts"
   ]
  },
  {
   "cell_type": "code",
   "execution_count": 6,
   "metadata": {},
   "outputs": [],
   "source": [
    "for i in range(len(df_wifi_update)):\n",
    "    if(int(df_value_counts[ df_value_counts['wifi_unique'] == df_wifi_update[\"wifi\"][i] ][\"Nb_Id\"]) == 1 ) :\n",
    "        df_wifi_update=df_wifi_update.drop([i])\n",
    "\n",
    "\n",
    "\n",
    "\n",
    "    "
   ]
  },
  {
   "cell_type": "code",
   "execution_count": 7,
   "metadata": {},
   "outputs": [
    {
     "output_type": "execute_result",
     "data": {
      "text/plain": [
       "                   wifi\n",
       "c4:04:15:3d:fc:32     3\n",
       "00:26:44:f0:d7:bb     3\n",
       "9c:1c:12:2b:b1:50     3\n",
       "16:ef:08:09:85:28     3\n",
       "9c:1c:12:2b:b7:a0     3\n",
       "...                 ...\n",
       "00:1a:1e:cf:81:a0     2\n",
       "86:7d:ce:49:9a:6c     2\n",
       "00:0b:86:6d:cc:03     2\n",
       "14:0c:76:75:fa:fc     2\n",
       "b2:5b:dd:a8:e5:c0     2\n",
       "\n",
       "[228 rows x 1 columns]"
      ],
      "text/html": "<div>\n<style scoped>\n    .dataframe tbody tr th:only-of-type {\n        vertical-align: middle;\n    }\n\n    .dataframe tbody tr th {\n        vertical-align: top;\n    }\n\n    .dataframe thead th {\n        text-align: right;\n    }\n</style>\n<table border=\"1\" class=\"dataframe\">\n  <thead>\n    <tr style=\"text-align: right;\">\n      <th></th>\n      <th>wifi</th>\n    </tr>\n  </thead>\n  <tbody>\n    <tr>\n      <th>c4:04:15:3d:fc:32</th>\n      <td>3</td>\n    </tr>\n    <tr>\n      <th>00:26:44:f0:d7:bb</th>\n      <td>3</td>\n    </tr>\n    <tr>\n      <th>9c:1c:12:2b:b1:50</th>\n      <td>3</td>\n    </tr>\n    <tr>\n      <th>16:ef:08:09:85:28</th>\n      <td>3</td>\n    </tr>\n    <tr>\n      <th>9c:1c:12:2b:b7:a0</th>\n      <td>3</td>\n    </tr>\n    <tr>\n      <th>...</th>\n      <td>...</td>\n    </tr>\n    <tr>\n      <th>00:1a:1e:cf:81:a0</th>\n      <td>2</td>\n    </tr>\n    <tr>\n      <th>86:7d:ce:49:9a:6c</th>\n      <td>2</td>\n    </tr>\n    <tr>\n      <th>00:0b:86:6d:cc:03</th>\n      <td>2</td>\n    </tr>\n    <tr>\n      <th>14:0c:76:75:fa:fc</th>\n      <td>2</td>\n    </tr>\n    <tr>\n      <th>b2:5b:dd:a8:e5:c0</th>\n      <td>2</td>\n    </tr>\n  </tbody>\n</table>\n<p>228 rows × 1 columns</p>\n</div>"
     },
     "metadata": {},
     "execution_count": 7
    }
   ],
   "source": [
    "value_counts = df_wifi_update['wifi'].value_counts()\n",
    "\n",
    "# solution here\n",
    "df_val_counts = pd.DataFrame(value_counts)\n",
    "df_value_counts = df_val_counts.reset_index()\n",
    "df_value_counts.columns = ['wifi_unique', 'Nb_Id'] \n",
    "df_val_counts"
   ]
  },
  {
   "cell_type": "code",
   "execution_count": 8,
   "metadata": {},
   "outputs": [
    {
     "output_type": "execute_result",
     "data": {
      "text/plain": [
       "' a=df_wifi_update[df_wifi_update[\"wifi\"] == \"9c:1c:12:2b:c3:f1\"]\\n\\ndf_val_counts = pd.DataFrame(a)\\ndf_value_counts_test = df_val_counts.reset_index()\\ndf_value_counts_test.columns = [\\'supprimer\\',\\'wifi\\',\\'id\\', \\'count\\'] \\ndf_value_counts_test=df_value_counts_test.drop(columns=[\"supprimer\"])\\n '"
      ]
     },
     "metadata": {},
     "execution_count": 8
    }
   ],
   "source": [
    "\"\"\" a=df_wifi_update[df_wifi_update[\"wifi\"] == \"9c:1c:12:2b:c3:f1\"]\n",
    "\n",
    "df_val_counts = pd.DataFrame(a)\n",
    "df_value_counts_test = df_val_counts.reset_index()\n",
    "df_value_counts_test.columns = ['supprimer','wifi','id', 'count'] \n",
    "df_value_counts_test=df_value_counts_test.drop(columns=[\"supprimer\"])\n",
    " \"\"\""
   ]
  },
  {
   "cell_type": "code",
   "execution_count": 9,
   "metadata": {},
   "outputs": [
    {
     "output_type": "execute_result",
     "data": {
      "text/plain": [
       "'df_value_counts_test'"
      ]
     },
     "metadata": {},
     "execution_count": 9
    }
   ],
   "source": [
    "\"\"\"df_value_counts_test\"\"\""
   ]
  },
  {
   "cell_type": "code",
   "execution_count": 53,
   "metadata": {},
   "outputs": [],
   "source": [
    "final = pd.DataFrame(columns = ['ID1', 'ID2', 'length','wifi'])"
   ]
  },
  {
   "cell_type": "code",
   "execution_count": 54,
   "metadata": {},
   "outputs": [],
   "source": [
    "s=0\n",
    "for wifi in range(len(df_value_counts)):\n",
    "    element= df_wifi_update[df_wifi_update[\"wifi\"] == df_value_counts['wifi_unique'][wifi]]\n",
    "    df_val_counts = pd.DataFrame(element)\n",
    "    df_value_counts_test = df_val_counts.reset_index()\n",
    "    df_value_counts_test.columns = ['supprimer','wifi','id', 'count'] \n",
    "    df_value_counts_test=df_value_counts_test.drop(columns=[\"supprimer\"])\n",
    "    for i in range(len(df_value_counts_test)):\n",
    "        j=i+1\n",
    "        while(j <len(df_value_counts_test)):\n",
    "            final.loc[s]=[df_value_counts_test[\"id\"][i],df_value_counts_test[\"id\"][j],min(df_value_counts_test[\"count\"][i],df_value_counts_test[\"count\"][j]),df_value_counts_test[\"wifi\"][i]]\n",
    "            j=j+1\n",
    "            s+=1\n",
    "\n",
    "        "
   ]
  },
  {
   "cell_type": "code",
   "execution_count": 55,
   "metadata": {},
   "outputs": [
    {
     "output_type": "execute_result",
     "data": {
      "text/plain": [
       "    ID1 ID2 length               wifi\n",
       "0     1   2      1  c4:04:15:3d:fc:32\n",
       "1     1   7     67  c4:04:15:3d:fc:32\n",
       "2     2   7      1  c4:04:15:3d:fc:32\n",
       "3     1   2      2  00:26:44:f0:d7:bb\n",
       "4     1   7      2  00:26:44:f0:d7:bb\n",
       "..   ..  ..    ...                ...\n",
       "305   1   7      2  00:1a:1e:cf:81:a0\n",
       "306   1   7      2  86:7d:ce:49:9a:6c\n",
       "307   1   7      2  00:0b:86:6d:cc:03\n",
       "308   1   7      2  14:0c:76:75:fa:fc\n",
       "309   1   7      2  b2:5b:dd:a8:e5:c0\n",
       "\n",
       "[310 rows x 4 columns]"
      ],
      "text/html": "<div>\n<style scoped>\n    .dataframe tbody tr th:only-of-type {\n        vertical-align: middle;\n    }\n\n    .dataframe tbody tr th {\n        vertical-align: top;\n    }\n\n    .dataframe thead th {\n        text-align: right;\n    }\n</style>\n<table border=\"1\" class=\"dataframe\">\n  <thead>\n    <tr style=\"text-align: right;\">\n      <th></th>\n      <th>ID1</th>\n      <th>ID2</th>\n      <th>length</th>\n      <th>wifi</th>\n    </tr>\n  </thead>\n  <tbody>\n    <tr>\n      <th>0</th>\n      <td>1</td>\n      <td>2</td>\n      <td>1</td>\n      <td>c4:04:15:3d:fc:32</td>\n    </tr>\n    <tr>\n      <th>1</th>\n      <td>1</td>\n      <td>7</td>\n      <td>67</td>\n      <td>c4:04:15:3d:fc:32</td>\n    </tr>\n    <tr>\n      <th>2</th>\n      <td>2</td>\n      <td>7</td>\n      <td>1</td>\n      <td>c4:04:15:3d:fc:32</td>\n    </tr>\n    <tr>\n      <th>3</th>\n      <td>1</td>\n      <td>2</td>\n      <td>2</td>\n      <td>00:26:44:f0:d7:bb</td>\n    </tr>\n    <tr>\n      <th>4</th>\n      <td>1</td>\n      <td>7</td>\n      <td>2</td>\n      <td>00:26:44:f0:d7:bb</td>\n    </tr>\n    <tr>\n      <th>...</th>\n      <td>...</td>\n      <td>...</td>\n      <td>...</td>\n      <td>...</td>\n    </tr>\n    <tr>\n      <th>305</th>\n      <td>1</td>\n      <td>7</td>\n      <td>2</td>\n      <td>00:1a:1e:cf:81:a0</td>\n    </tr>\n    <tr>\n      <th>306</th>\n      <td>1</td>\n      <td>7</td>\n      <td>2</td>\n      <td>86:7d:ce:49:9a:6c</td>\n    </tr>\n    <tr>\n      <th>307</th>\n      <td>1</td>\n      <td>7</td>\n      <td>2</td>\n      <td>00:0b:86:6d:cc:03</td>\n    </tr>\n    <tr>\n      <th>308</th>\n      <td>1</td>\n      <td>7</td>\n      <td>2</td>\n      <td>14:0c:76:75:fa:fc</td>\n    </tr>\n    <tr>\n      <th>309</th>\n      <td>1</td>\n      <td>7</td>\n      <td>2</td>\n      <td>b2:5b:dd:a8:e5:c0</td>\n    </tr>\n  </tbody>\n</table>\n<p>310 rows × 4 columns</p>\n</div>"
     },
     "metadata": {},
     "execution_count": 55
    }
   ],
   "source": [
    "final"
   ]
  },
  {
   "cell_type": "code",
   "execution_count": 56,
   "metadata": {},
   "outputs": [],
   "source": [
    "resultt=pd.DataFrame({'Nbre-repeat' : final.groupby( [ \"ID1\", \"ID2\"] ).size()}).reset_index()\n",
    "\n",
    "result=final.groupby(['ID1', 'ID2']).sum()['length'].reset_index()"
   ]
  },
  {
   "cell_type": "code",
   "execution_count": 57,
   "metadata": {},
   "outputs": [
    {
     "output_type": "execute_result",
     "data": {
      "text/plain": [
       "   ID1  ID2  Nbre-repeat\n",
       "0    1    2           23\n",
       "1    1    6           33\n",
       "2    1    7          204\n",
       "3    2    7           21\n",
       "4    6    7           29"
      ],
      "text/html": "<div>\n<style scoped>\n    .dataframe tbody tr th:only-of-type {\n        vertical-align: middle;\n    }\n\n    .dataframe tbody tr th {\n        vertical-align: top;\n    }\n\n    .dataframe thead th {\n        text-align: right;\n    }\n</style>\n<table border=\"1\" class=\"dataframe\">\n  <thead>\n    <tr style=\"text-align: right;\">\n      <th></th>\n      <th>ID1</th>\n      <th>ID2</th>\n      <th>Nbre-repeat</th>\n    </tr>\n  </thead>\n  <tbody>\n    <tr>\n      <th>0</th>\n      <td>1</td>\n      <td>2</td>\n      <td>23</td>\n    </tr>\n    <tr>\n      <th>1</th>\n      <td>1</td>\n      <td>6</td>\n      <td>33</td>\n    </tr>\n    <tr>\n      <th>2</th>\n      <td>1</td>\n      <td>7</td>\n      <td>204</td>\n    </tr>\n    <tr>\n      <th>3</th>\n      <td>2</td>\n      <td>7</td>\n      <td>21</td>\n    </tr>\n    <tr>\n      <th>4</th>\n      <td>6</td>\n      <td>7</td>\n      <td>29</td>\n    </tr>\n  </tbody>\n</table>\n</div>"
     },
     "metadata": {},
     "execution_count": 57
    }
   ],
   "source": [
    "resultt"
   ]
  },
  {
   "cell_type": "code",
   "execution_count": 58,
   "metadata": {},
   "outputs": [
    {
     "output_type": "execute_result",
     "data": {
      "text/plain": [
       "   ID1  ID2  length\n",
       "0    1    2      25\n",
       "1    1    6     113\n",
       "2    1    7    3124\n",
       "3    2    7      22\n",
       "4    6    7      77"
      ],
      "text/html": "<div>\n<style scoped>\n    .dataframe tbody tr th:only-of-type {\n        vertical-align: middle;\n    }\n\n    .dataframe tbody tr th {\n        vertical-align: top;\n    }\n\n    .dataframe thead th {\n        text-align: right;\n    }\n</style>\n<table border=\"1\" class=\"dataframe\">\n  <thead>\n    <tr style=\"text-align: right;\">\n      <th></th>\n      <th>ID1</th>\n      <th>ID2</th>\n      <th>length</th>\n    </tr>\n  </thead>\n  <tbody>\n    <tr>\n      <th>0</th>\n      <td>1</td>\n      <td>2</td>\n      <td>25</td>\n    </tr>\n    <tr>\n      <th>1</th>\n      <td>1</td>\n      <td>6</td>\n      <td>113</td>\n    </tr>\n    <tr>\n      <th>2</th>\n      <td>1</td>\n      <td>7</td>\n      <td>3124</td>\n    </tr>\n    <tr>\n      <th>3</th>\n      <td>2</td>\n      <td>7</td>\n      <td>22</td>\n    </tr>\n    <tr>\n      <th>4</th>\n      <td>6</td>\n      <td>7</td>\n      <td>77</td>\n    </tr>\n  </tbody>\n</table>\n</div>"
     },
     "metadata": {},
     "execution_count": 58
    }
   ],
   "source": [
    "result"
   ]
  },
  {
   "cell_type": "code",
   "execution_count": 59,
   "metadata": {},
   "outputs": [],
   "source": [
    "\n",
    "import networkx as nx\n",
    "\n",
    "G = nx.from_pandas_edgelist(df=result, source='ID1', target='ID2', edge_attr='length')\n",
    "\n",
    "G.add_nodes_from(nodes_for_adding=result.ID1.tolist())"
   ]
  },
  {
   "cell_type": "code",
   "execution_count": 60,
   "metadata": {},
   "outputs": [
    {
     "output_type": "execute_result",
     "data": {
      "text/plain": [
       "EdgeDataView([(1, 2, {'length': 25}), (1, 6, {'length': 113}), (1, 7, {'length': 3124}), (2, 7, {'length': 22}), (6, 7, {'length': 77})])"
      ]
     },
     "metadata": {},
     "execution_count": 60
    }
   ],
   "source": [
    "G.edges(data=True)"
   ]
  },
  {
   "cell_type": "code",
   "execution_count": 69,
   "metadata": {},
   "outputs": [
    {
     "output_type": "display_data",
     "data": {
      "text/plain": "<Figure size 432x288 with 1 Axes>",
      "image/svg+xml": "<?xml version=\"1.0\" encoding=\"utf-8\" standalone=\"no\"?>\r\n<!DOCTYPE svg PUBLIC \"-//W3C//DTD SVG 1.1//EN\"\r\n  \"http://www.w3.org/Graphics/SVG/1.1/DTD/svg11.dtd\">\r\n<!-- Created with matplotlib (https://matplotlib.org/) -->\r\n<svg height=\"302.4pt\" version=\"1.1\" viewBox=\"0 0 446.4 302.4\" width=\"446.4pt\" xmlns=\"http://www.w3.org/2000/svg\" xmlns:xlink=\"http://www.w3.org/1999/xlink\">\r\n <metadata>\r\n  <rdf:RDF xmlns:cc=\"http://creativecommons.org/ns#\" xmlns:dc=\"http://purl.org/dc/elements/1.1/\" xmlns:rdf=\"http://www.w3.org/1999/02/22-rdf-syntax-ns#\">\r\n   <cc:Work>\r\n    <dc:type rdf:resource=\"http://purl.org/dc/dcmitype/StillImage\"/>\r\n    <dc:date>2020-12-09T09:47:34.678066</dc:date>\r\n    <dc:format>image/svg+xml</dc:format>\r\n    <dc:creator>\r\n     <cc:Agent>\r\n      <dc:title>Matplotlib v3.3.3, https://matplotlib.org/</dc:title>\r\n     </cc:Agent>\r\n    </dc:creator>\r\n   </cc:Work>\r\n  </rdf:RDF>\r\n </metadata>\r\n <defs>\r\n  <style type=\"text/css\">*{stroke-linecap:butt;stroke-linejoin:round;}</style>\r\n </defs>\r\n <g id=\"figure_1\">\r\n  <g id=\"patch_1\">\r\n   <path d=\"M 0 302.4 \r\nL 446.4 302.4 \r\nL 446.4 0 \r\nL 0 0 \r\nz\r\n\" style=\"fill:#ffffff;\"/>\r\n  </g>\r\n  <g id=\"axes_1\">\r\n   <g id=\"LineCollection_1\">\r\n    <path clip-path=\"url(#p0d3ff8d5da)\" d=\"M 231.589699 20.290909 \r\nL 419.563636 125.969205 \r\n\" style=\"fill:none;stroke:#000000;\"/>\r\n    <path clip-path=\"url(#p0d3ff8d5da)\" d=\"M 231.589699 20.290909 \r\nL 26.836364 108.11656 \r\n\" style=\"fill:none;stroke:#000000;\"/>\r\n    <path clip-path=\"url(#p0d3ff8d5da)\" d=\"M 231.589699 20.290909 \r\nL 215.178728 282.109091 \r\n\" style=\"fill:none;stroke:#000000;\"/>\r\n    <path clip-path=\"url(#p0d3ff8d5da)\" d=\"M 419.563636 125.969205 \r\nL 215.178728 282.109091 \r\n\" style=\"fill:none;stroke:#000000;\"/>\r\n    <path clip-path=\"url(#p0d3ff8d5da)\" d=\"M 26.836364 108.11656 \r\nL 215.178728 282.109091 \r\n\" style=\"fill:none;stroke:#000000;\"/>\r\n   </g>\r\n   <g id=\"PathCollection_1\">\r\n    <defs>\r\n     <path d=\"M 0 8.660254 \r\nC 2.296726 8.660254 4.499694 7.747755 6.123724 6.123724 \r\nC 7.747755 4.499694 8.660254 2.296726 8.660254 0 \r\nC 8.660254 -2.296726 7.747755 -4.499694 6.123724 -6.123724 \r\nC 4.499694 -7.747755 2.296726 -8.660254 0 -8.660254 \r\nC -2.296726 -8.660254 -4.499694 -7.747755 -6.123724 -6.123724 \r\nC -7.747755 -4.499694 -8.660254 -2.296726 -8.660254 0 \r\nC -8.660254 2.296726 -7.747755 4.499694 -6.123724 6.123724 \r\nC -4.499694 7.747755 -2.296726 8.660254 0 8.660254 \r\nz\r\n\" id=\"md599e02df4\" style=\"stroke:#1f78b4;\"/>\r\n    </defs>\r\n    <g clip-path=\"url(#p0d3ff8d5da)\">\r\n     <use style=\"fill:#1f78b4;stroke:#1f78b4;\" x=\"231.589699\" xlink:href=\"#md599e02df4\" y=\"20.290909\"/>\r\n     <use style=\"fill:#1f78b4;stroke:#1f78b4;\" x=\"419.563636\" xlink:href=\"#md599e02df4\" y=\"125.969205\"/>\r\n     <use style=\"fill:#1f78b4;stroke:#1f78b4;\" x=\"26.836364\" xlink:href=\"#md599e02df4\" y=\"108.11656\"/>\r\n     <use style=\"fill:#1f78b4;stroke:#1f78b4;\" x=\"215.178728\" xlink:href=\"#md599e02df4\" y=\"282.109091\"/>\r\n    </g>\r\n   </g>\r\n   <g id=\"text_1\">\r\n    <g clip-path=\"url(#p0d3ff8d5da)\">\r\n     <!-- 1 -->\r\n     <g transform=\"translate(227.772199 23.602159)scale(0.12 -0.12)\">\r\n      <defs>\r\n       <path d=\"M 12.40625 8.296875 \r\nL 28.515625 8.296875 \r\nL 28.515625 63.921875 \r\nL 10.984375 60.40625 \r\nL 10.984375 69.390625 \r\nL 28.421875 72.90625 \r\nL 38.28125 72.90625 \r\nL 38.28125 8.296875 \r\nL 54.390625 8.296875 \r\nL 54.390625 0 \r\nL 12.40625 0 \r\nz\r\n\" id=\"DejaVuSans-49\"/>\r\n      </defs>\r\n      <use xlink:href=\"#DejaVuSans-49\"/>\r\n     </g>\r\n    </g>\r\n   </g>\r\n   <g id=\"text_2\">\r\n    <g clip-path=\"url(#p0d3ff8d5da)\">\r\n     <!-- 2 -->\r\n     <g transform=\"translate(415.746136 129.280455)scale(0.12 -0.12)\">\r\n      <defs>\r\n       <path d=\"M 19.1875 8.296875 \r\nL 53.609375 8.296875 \r\nL 53.609375 0 \r\nL 7.328125 0 \r\nL 7.328125 8.296875 \r\nQ 12.9375 14.109375 22.625 23.890625 \r\nQ 32.328125 33.6875 34.8125 36.53125 \r\nQ 39.546875 41.84375 41.421875 45.53125 \r\nQ 43.3125 49.21875 43.3125 52.78125 \r\nQ 43.3125 58.59375 39.234375 62.25 \r\nQ 35.15625 65.921875 28.609375 65.921875 \r\nQ 23.96875 65.921875 18.8125 64.3125 \r\nQ 13.671875 62.703125 7.8125 59.421875 \r\nL 7.8125 69.390625 \r\nQ 13.765625 71.78125 18.9375 73 \r\nQ 24.125 74.21875 28.421875 74.21875 \r\nQ 39.75 74.21875 46.484375 68.546875 \r\nQ 53.21875 62.890625 53.21875 53.421875 \r\nQ 53.21875 48.921875 51.53125 44.890625 \r\nQ 49.859375 40.875 45.40625 35.40625 \r\nQ 44.1875 33.984375 37.640625 27.21875 \r\nQ 31.109375 20.453125 19.1875 8.296875 \r\nz\r\n\" id=\"DejaVuSans-50\"/>\r\n      </defs>\r\n      <use xlink:href=\"#DejaVuSans-50\"/>\r\n     </g>\r\n    </g>\r\n   </g>\r\n   <g id=\"text_3\">\r\n    <g clip-path=\"url(#p0d3ff8d5da)\">\r\n     <!-- 6 -->\r\n     <g transform=\"translate(23.018864 111.42781)scale(0.12 -0.12)\">\r\n      <defs>\r\n       <path d=\"M 33.015625 40.375 \r\nQ 26.375 40.375 22.484375 35.828125 \r\nQ 18.609375 31.296875 18.609375 23.390625 \r\nQ 18.609375 15.53125 22.484375 10.953125 \r\nQ 26.375 6.390625 33.015625 6.390625 \r\nQ 39.65625 6.390625 43.53125 10.953125 \r\nQ 47.40625 15.53125 47.40625 23.390625 \r\nQ 47.40625 31.296875 43.53125 35.828125 \r\nQ 39.65625 40.375 33.015625 40.375 \r\nz\r\nM 52.59375 71.296875 \r\nL 52.59375 62.3125 \r\nQ 48.875 64.0625 45.09375 64.984375 \r\nQ 41.3125 65.921875 37.59375 65.921875 \r\nQ 27.828125 65.921875 22.671875 59.328125 \r\nQ 17.53125 52.734375 16.796875 39.40625 \r\nQ 19.671875 43.65625 24.015625 45.921875 \r\nQ 28.375 48.1875 33.59375 48.1875 \r\nQ 44.578125 48.1875 50.953125 41.515625 \r\nQ 57.328125 34.859375 57.328125 23.390625 \r\nQ 57.328125 12.15625 50.6875 5.359375 \r\nQ 44.046875 -1.421875 33.015625 -1.421875 \r\nQ 20.359375 -1.421875 13.671875 8.265625 \r\nQ 6.984375 17.96875 6.984375 36.375 \r\nQ 6.984375 53.65625 15.1875 63.9375 \r\nQ 23.390625 74.21875 37.203125 74.21875 \r\nQ 40.921875 74.21875 44.703125 73.484375 \r\nQ 48.484375 72.75 52.59375 71.296875 \r\nz\r\n\" id=\"DejaVuSans-54\"/>\r\n      </defs>\r\n      <use xlink:href=\"#DejaVuSans-54\"/>\r\n     </g>\r\n    </g>\r\n   </g>\r\n   <g id=\"text_4\">\r\n    <g clip-path=\"url(#p0d3ff8d5da)\">\r\n     <!-- 7 -->\r\n     <g transform=\"translate(211.361228 285.420341)scale(0.12 -0.12)\">\r\n      <defs>\r\n       <path d=\"M 8.203125 72.90625 \r\nL 55.078125 72.90625 \r\nL 55.078125 68.703125 \r\nL 28.609375 0 \r\nL 18.3125 0 \r\nL 43.21875 64.59375 \r\nL 8.203125 64.59375 \r\nz\r\n\" id=\"DejaVuSans-55\"/>\r\n      </defs>\r\n      <use xlink:href=\"#DejaVuSans-55\"/>\r\n     </g>\r\n    </g>\r\n   </g>\r\n  </g>\r\n </g>\r\n <defs>\r\n  <clipPath id=\"p0d3ff8d5da\">\r\n   <rect height=\"288\" width=\"432\" x=\"7.2\" y=\"7.2\"/>\r\n  </clipPath>\r\n </defs>\r\n</svg>\r\n",
      "image/png": "[encoded data removed]"
     },
     "metadata": {}
    }
   ],
   "source": [
    "weights = [i['length']/100 for i in dict(G.edges).values()]\n",
    "\n",
    "nx.draw(G, with_labels = True)"
   ]
  },
  {
   "cell_type": "code",
   "execution_count": 33,
   "metadata": {},
   "outputs": [],
   "source": [
    "\n"
   ]
  },
  {
   "cell_type": "code",
   "execution_count": null,
   "metadata": {},
   "outputs": [],
   "source": []
  }
 ],
 "metadata": {
  "kernelspec": {
   "display_name": "Python 3",
   "language": "python",
   "name": "python3"
  },
  "language_info": {
   "codemirror_mode": {
    "name": "ipython",
    "version": 3
   },
   "file_extension": ".py",
   "mimetype": "text/x-python",
   "name": "python",
   "nbconvert_exporter": "python",
   "pygments_lexer": "ipython3",
   "version": "3.9.0-final"
  }
 },
 "nbformat": 4,
 "nbformat_minor": 4
}