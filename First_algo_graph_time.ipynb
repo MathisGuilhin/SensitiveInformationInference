{
 "cells": [
  {
   "cell_type": "code",
   "execution_count": 1,
   "metadata": {},
   "outputs": [],
   "source": [
    "import pandas as pd\n",
    "\n",
    "df_wifi = pd.read_csv('privamov/privamov-wifi', sep='\\t', nrows=1000000, header=None, names=['id', 'timestamp','wifi'], parse_dates=['timestamp'], index_col='timestamp')"
   ]
  },
  {
   "cell_type": "code",
   "execution_count": 2,
   "metadata": {},
   "outputs": [
    {
     "output_type": "execute_result",
     "data": {
      "text/plain": [
       "                         id               wifi\n",
       "timestamp                                     \n",
       "2014-10-06 12:56:50.500   1  84:a6:c8:a9:c2:d9\n",
       "2014-10-06 12:56:50.510   1  9c:1c:12:24:b4:d1\n",
       "2014-10-06 12:56:50.515   1  9c:1c:12:24:af:31\n",
       "2014-10-06 12:56:50.516   1  9c:1c:12:2b:c3:f1\n",
       "2014-10-04 19:43:14.986   1  20:e5:2a:5b:bf:e0\n",
       "...                      ..                ...\n",
       "2015-01-19 09:51:53.904   6  c8:d3:a3:06:f6:0e\n",
       "2015-01-19 09:51:53.914   6  9c:1c:12:2b:b1:59\n",
       "2015-01-19 09:51:53.917   6  9c:1c:12:2b:b1:58\n",
       "2015-01-19 09:51:53.917   6  9c:1c:12:24:b4:d0\n",
       "2015-01-19 09:51:53.928   6  00:24:6c:f0:4c:40\n",
       "\n",
       "[1000000 rows x 2 columns]"
      ],
      "text/html": "<div>\n<style scoped>\n    .dataframe tbody tr th:only-of-type {\n        vertical-align: middle;\n    }\n\n    .dataframe tbody tr th {\n        vertical-align: top;\n    }\n\n    .dataframe thead th {\n        text-align: right;\n    }\n</style>\n<table border=\"1\" class=\"dataframe\">\n  <thead>\n    <tr style=\"text-align: right;\">\n      <th></th>\n      <th>id</th>\n      <th>wifi</th>\n    </tr>\n    <tr>\n      <th>timestamp</th>\n      <th></th>\n      <th></th>\n    </tr>\n  </thead>\n  <tbody>\n    <tr>\n      <th>2014-10-06 12:56:50.500</th>\n      <td>1</td>\n      <td>84:a6:c8:a9:c2:d9</td>\n    </tr>\n    <tr>\n      <th>2014-10-06 12:56:50.510</th>\n      <td>1</td>\n      <td>9c:1c:12:24:b4:d1</td>\n    </tr>\n    <tr>\n      <th>2014-10-06 12:56:50.515</th>\n      <td>1</td>\n      <td>9c:1c:12:24:af:31</td>\n    </tr>\n    <tr>\n      <th>2014-10-06 12:56:50.516</th>\n      <td>1</td>\n      <td>9c:1c:12:2b:c3:f1</td>\n    </tr>\n    <tr>\n      <th>2014-10-04 19:43:14.986</th>\n      <td>1</td>\n      <td>20:e5:2a:5b:bf:e0</td>\n    </tr>\n    <tr>\n      <th>...</th>\n      <td>...</td>\n      <td>...</td>\n    </tr>\n    <tr>\n      <th>2015-01-19 09:51:53.904</th>\n      <td>6</td>\n      <td>c8:d3:a3:06:f6:0e</td>\n    </tr>\n    <tr>\n      <th>2015-01-19 09:51:53.914</th>\n      <td>6</td>\n      <td>9c:1c:12:2b:b1:59</td>\n    </tr>\n    <tr>\n      <th>2015-01-19 09:51:53.917</th>\n      <td>6</td>\n      <td>9c:1c:12:2b:b1:58</td>\n    </tr>\n    <tr>\n      <th>2015-01-19 09:51:53.917</th>\n      <td>6</td>\n      <td>9c:1c:12:24:b4:d0</td>\n    </tr>\n    <tr>\n      <th>2015-01-19 09:51:53.928</th>\n      <td>6</td>\n      <td>00:24:6c:f0:4c:40</td>\n    </tr>\n  </tbody>\n</table>\n<p>1000000 rows × 2 columns</p>\n</div>"
     },
     "metadata": {},
     "execution_count": 2
    }
   ],
   "source": [
    "df_wifi"
   ]
  },
  {
   "cell_type": "code",
   "execution_count": 3,
   "metadata": {},
   "outputs": [
    {
     "output_type": "execute_result",
     "data": {
      "text/plain": [
       "                         id               wifi\n",
       "timestamp                                     \n",
       "2014-11-24 22:08:57.154   6  00:17:33:78:a0:f8\n",
       "2014-11-24 22:08:57.168   6  a2:17:33:78:a0:fb\n",
       "2014-11-24 22:08:57.184   6  a2:17:33:78:a0:f9\n",
       "2014-11-24 22:08:57.203   6  52:1f:9f:f5:d2:a4\n",
       "2014-11-24 22:08:57.229   6  00:1f:9f:f5:d2:a7\n",
       "...                      ..                ...\n",
       "2015-01-19 05:11:23.226   6  d2:17:33:d1:4e:a7\n",
       "2015-01-19 05:11:23.282   6  f4:ca:e5:cc:a7:8d\n",
       "2015-01-19 05:11:23.296   6  14:0c:76:f6:1e:d1\n",
       "2015-01-19 05:11:23.302   6  d2:17:33:d1:4e:a5\n",
       "2015-01-19 05:11:23.322   6  00:17:33:19:aa:fc\n",
       "\n",
       "[266867 rows x 2 columns]"
      ],
      "text/html": "<div>\n<style scoped>\n    .dataframe tbody tr th:only-of-type {\n        vertical-align: middle;\n    }\n\n    .dataframe tbody tr th {\n        vertical-align: top;\n    }\n\n    .dataframe thead th {\n        text-align: right;\n    }\n</style>\n<table border=\"1\" class=\"dataframe\">\n  <thead>\n    <tr style=\"text-align: right;\">\n      <th></th>\n      <th>id</th>\n      <th>wifi</th>\n    </tr>\n    <tr>\n      <th>timestamp</th>\n      <th></th>\n      <th></th>\n    </tr>\n  </thead>\n  <tbody>\n    <tr>\n      <th>2014-11-24 22:08:57.154</th>\n      <td>6</td>\n      <td>00:17:33:78:a0:f8</td>\n    </tr>\n    <tr>\n      <th>2014-11-24 22:08:57.168</th>\n      <td>6</td>\n      <td>a2:17:33:78:a0:fb</td>\n    </tr>\n    <tr>\n      <th>2014-11-24 22:08:57.184</th>\n      <td>6</td>\n      <td>a2:17:33:78:a0:f9</td>\n    </tr>\n    <tr>\n      <th>2014-11-24 22:08:57.203</th>\n      <td>6</td>\n      <td>52:1f:9f:f5:d2:a4</td>\n    </tr>\n    <tr>\n      <th>2014-11-24 22:08:57.229</th>\n      <td>6</td>\n      <td>00:1f:9f:f5:d2:a7</td>\n    </tr>\n    <tr>\n      <th>...</th>\n      <td>...</td>\n      <td>...</td>\n    </tr>\n    <tr>\n      <th>2015-01-19 05:11:23.226</th>\n      <td>6</td>\n      <td>d2:17:33:d1:4e:a7</td>\n    </tr>\n    <tr>\n      <th>2015-01-19 05:11:23.282</th>\n      <td>6</td>\n      <td>f4:ca:e5:cc:a7:8d</td>\n    </tr>\n    <tr>\n      <th>2015-01-19 05:11:23.296</th>\n      <td>6</td>\n      <td>14:0c:76:f6:1e:d1</td>\n    </tr>\n    <tr>\n      <th>2015-01-19 05:11:23.302</th>\n      <td>6</td>\n      <td>d2:17:33:d1:4e:a5</td>\n    </tr>\n    <tr>\n      <th>2015-01-19 05:11:23.322</th>\n      <td>6</td>\n      <td>00:17:33:19:aa:fc</td>\n    </tr>\n  </tbody>\n</table>\n<p>266867 rows × 2 columns</p>\n</div>"
     },
     "metadata": {},
     "execution_count": 3
    }
   ],
   "source": [
    "df_wifi_timerange= df_wifi.between_time('22:00', '6:00')\n",
    "df_wifi_timerange"
   ]
  },
  {
   "cell_type": "code",
   "execution_count": 4,
   "metadata": {},
   "outputs": [
    {
     "output_type": "execute_result",
     "data": {
      "text/plain": [
       "                   wifi  id  count\n",
       "0     00:02:6f:e6:d3:4a   1      6\n",
       "1     00:02:6f:e6:d6:9c   1      4\n",
       "2     00:02:6f:e7:12:64   1      2\n",
       "3     00:02:6f:ea:c0:60   1      2\n",
       "4     00:02:6f:ea:c0:64   1      2\n",
       "...                 ...  ..    ...\n",
       "7697  fc:fb:fb:6a:ca:41   1      2\n",
       "7698  fe:9b:2f:0f:65:1a   1      1\n",
       "7699  fe:c2:de:50:2a:16   1      2\n",
       "7700  fe:df:a8:cf:e4:37  17      2\n",
       "7701  fe:df:a8:d2:f4:dd   8      2\n",
       "\n",
       "[7702 rows x 3 columns]"
      ],
      "text/html": "<div>\n<style scoped>\n    .dataframe tbody tr th:only-of-type {\n        vertical-align: middle;\n    }\n\n    .dataframe tbody tr th {\n        vertical-align: top;\n    }\n\n    .dataframe thead th {\n        text-align: right;\n    }\n</style>\n<table border=\"1\" class=\"dataframe\">\n  <thead>\n    <tr style=\"text-align: right;\">\n      <th></th>\n      <th>wifi</th>\n      <th>id</th>\n      <th>count</th>\n    </tr>\n  </thead>\n  <tbody>\n    <tr>\n      <th>0</th>\n      <td>00:02:6f:e6:d3:4a</td>\n      <td>1</td>\n      <td>6</td>\n    </tr>\n    <tr>\n      <th>1</th>\n      <td>00:02:6f:e6:d6:9c</td>\n      <td>1</td>\n      <td>4</td>\n    </tr>\n    <tr>\n      <th>2</th>\n      <td>00:02:6f:e7:12:64</td>\n      <td>1</td>\n      <td>2</td>\n    </tr>\n    <tr>\n      <th>3</th>\n      <td>00:02:6f:ea:c0:60</td>\n      <td>1</td>\n      <td>2</td>\n    </tr>\n    <tr>\n      <th>4</th>\n      <td>00:02:6f:ea:c0:64</td>\n      <td>1</td>\n      <td>2</td>\n    </tr>\n    <tr>\n      <th>...</th>\n      <td>...</td>\n      <td>...</td>\n      <td>...</td>\n    </tr>\n    <tr>\n      <th>7697</th>\n      <td>fc:fb:fb:6a:ca:41</td>\n      <td>1</td>\n      <td>2</td>\n    </tr>\n    <tr>\n      <th>7698</th>\n      <td>fe:9b:2f:0f:65:1a</td>\n      <td>1</td>\n      <td>1</td>\n    </tr>\n    <tr>\n      <th>7699</th>\n      <td>fe:c2:de:50:2a:16</td>\n      <td>1</td>\n      <td>2</td>\n    </tr>\n    <tr>\n      <th>7700</th>\n      <td>fe:df:a8:cf:e4:37</td>\n      <td>17</td>\n      <td>2</td>\n    </tr>\n    <tr>\n      <th>7701</th>\n      <td>fe:df:a8:d2:f4:dd</td>\n      <td>8</td>\n      <td>2</td>\n    </tr>\n  </tbody>\n</table>\n<p>7702 rows × 3 columns</p>\n</div>"
     },
     "metadata": {},
     "execution_count": 4
    }
   ],
   "source": [
    "df_wifi_update=pd.DataFrame({'count' : df_wifi_timerange.groupby( [ \"wifi\", \"id\"] ).size()}).reset_index()\n",
    "df_wifi_update"
   ]
  },
  {
   "cell_type": "code",
   "execution_count": 5,
   "metadata": {},
   "outputs": [],
   "source": [
    "value_counts = df_wifi_update['wifi'].value_counts()\n",
    "\n",
    "# solution here\n",
    "df_val_counts = pd.DataFrame(value_counts)\n",
    "df_value_counts = df_val_counts.reset_index()\n",
    "df_value_counts.columns = ['wifi_unique', 'Nb_Id'] "
   ]
  },
  {
   "cell_type": "code",
   "execution_count": 6,
   "metadata": {},
   "outputs": [
    {
     "output_type": "execute_result",
     "data": {
      "text/plain": [
       "            wifi_unique  Nb_Id\n",
       "0     56:01:70:a4:17:84      9\n",
       "1     56:01:70:a4:17:86      8\n",
       "2     56:01:70:a4:17:87      7\n",
       "3     22:e8:a4:e8:fa:87      6\n",
       "4     e6:65:b2:d8:f5:b6      6\n",
       "...                 ...    ...\n",
       "7166  30:7e:cb:e4:06:ac      1\n",
       "7167  3a:18:0a:26:8d:82      1\n",
       "7168  c6:60:ed:22:24:69      1\n",
       "7169  c2:25:15:d4:dc:0f      1\n",
       "7170  f4:ca:e5:ea:a4:c0      1\n",
       "\n",
       "[7171 rows x 2 columns]"
      ],
      "text/html": "<div>\n<style scoped>\n    .dataframe tbody tr th:only-of-type {\n        vertical-align: middle;\n    }\n\n    .dataframe tbody tr th {\n        vertical-align: top;\n    }\n\n    .dataframe thead th {\n        text-align: right;\n    }\n</style>\n<table border=\"1\" class=\"dataframe\">\n  <thead>\n    <tr style=\"text-align: right;\">\n      <th></th>\n      <th>wifi_unique</th>\n      <th>Nb_Id</th>\n    </tr>\n  </thead>\n  <tbody>\n    <tr>\n      <th>0</th>\n      <td>56:01:70:a4:17:84</td>\n      <td>9</td>\n    </tr>\n    <tr>\n      <th>1</th>\n      <td>56:01:70:a4:17:86</td>\n      <td>8</td>\n    </tr>\n    <tr>\n      <th>2</th>\n      <td>56:01:70:a4:17:87</td>\n      <td>7</td>\n    </tr>\n    <tr>\n      <th>3</th>\n      <td>22:e8:a4:e8:fa:87</td>\n      <td>6</td>\n    </tr>\n    <tr>\n      <th>4</th>\n      <td>e6:65:b2:d8:f5:b6</td>\n      <td>6</td>\n    </tr>\n    <tr>\n      <th>...</th>\n      <td>...</td>\n      <td>...</td>\n    </tr>\n    <tr>\n      <th>7166</th>\n      <td>30:7e:cb:e4:06:ac</td>\n      <td>1</td>\n    </tr>\n    <tr>\n      <th>7167</th>\n      <td>3a:18:0a:26:8d:82</td>\n      <td>1</td>\n    </tr>\n    <tr>\n      <th>7168</th>\n      <td>c6:60:ed:22:24:69</td>\n      <td>1</td>\n    </tr>\n    <tr>\n      <th>7169</th>\n      <td>c2:25:15:d4:dc:0f</td>\n      <td>1</td>\n    </tr>\n    <tr>\n      <th>7170</th>\n      <td>f4:ca:e5:ea:a4:c0</td>\n      <td>1</td>\n    </tr>\n  </tbody>\n</table>\n<p>7171 rows × 2 columns</p>\n</div>"
     },
     "metadata": {},
     "execution_count": 6
    }
   ],
   "source": [
    "df_value_counts"
   ]
  },
  {
   "cell_type": "code",
   "execution_count": 7,
   "metadata": {},
   "outputs": [],
   "source": [
    "for i in range(len(df_wifi_update)):\n",
    "    if(int(df_value_counts[ df_value_counts['wifi_unique'] == df_wifi_update[\"wifi\"][i] ][\"Nb_Id\"]) == 1 ) :\n",
    "        df_wifi_update=df_wifi_update.drop([i])\n",
    "\n",
    "\n",
    "\n",
    "\n",
    "    "
   ]
  },
  {
   "cell_type": "code",
   "execution_count": 8,
   "metadata": {},
   "outputs": [
    {
     "output_type": "execute_result",
     "data": {
      "text/plain": [
       "                   wifi\n",
       "56:01:70:a4:17:84     9\n",
       "56:01:70:a4:17:86     8\n",
       "56:01:70:a4:17:87     7\n",
       "e6:65:b2:d8:f5:b6     6\n",
       "0e:76:6b:29:10:48     6\n",
       "...                 ...\n",
       "f4:ca:e5:a8:59:62     2\n",
       "00:1d:6a:49:54:77     2\n",
       "a2:a1:d7:0f:af:bd     2\n",
       "00:78:9e:7c:64:00     2\n",
       "06:19:70:5d:cc:67     2\n",
       "\n",
       "[349 rows x 1 columns]"
      ],
      "text/html": "<div>\n<style scoped>\n    .dataframe tbody tr th:only-of-type {\n        vertical-align: middle;\n    }\n\n    .dataframe tbody tr th {\n        vertical-align: top;\n    }\n\n    .dataframe thead th {\n        text-align: right;\n    }\n</style>\n<table border=\"1\" class=\"dataframe\">\n  <thead>\n    <tr style=\"text-align: right;\">\n      <th></th>\n      <th>wifi</th>\n    </tr>\n  </thead>\n  <tbody>\n    <tr>\n      <th>56:01:70:a4:17:84</th>\n      <td>9</td>\n    </tr>\n    <tr>\n      <th>56:01:70:a4:17:86</th>\n      <td>8</td>\n    </tr>\n    <tr>\n      <th>56:01:70:a4:17:87</th>\n      <td>7</td>\n    </tr>\n    <tr>\n      <th>e6:65:b2:d8:f5:b6</th>\n      <td>6</td>\n    </tr>\n    <tr>\n      <th>0e:76:6b:29:10:48</th>\n      <td>6</td>\n    </tr>\n    <tr>\n      <th>...</th>\n      <td>...</td>\n    </tr>\n    <tr>\n      <th>f4:ca:e5:a8:59:62</th>\n      <td>2</td>\n    </tr>\n    <tr>\n      <th>00:1d:6a:49:54:77</th>\n      <td>2</td>\n    </tr>\n    <tr>\n      <th>a2:a1:d7:0f:af:bd</th>\n      <td>2</td>\n    </tr>\n    <tr>\n      <th>00:78:9e:7c:64:00</th>\n      <td>2</td>\n    </tr>\n    <tr>\n      <th>06:19:70:5d:cc:67</th>\n      <td>2</td>\n    </tr>\n  </tbody>\n</table>\n<p>349 rows × 1 columns</p>\n</div>"
     },
     "metadata": {},
     "execution_count": 8
    }
   ],
   "source": [
    "value_counts = df_wifi_update['wifi'].value_counts()\n",
    "\n",
    "# solution here\n",
    "df_val_counts = pd.DataFrame(value_counts)\n",
    "df_value_counts = df_val_counts.reset_index()\n",
    "df_value_counts.columns = ['wifi_unique', 'Nb_Id'] \n",
    "df_val_counts"
   ]
  },
  {
   "cell_type": "code",
   "execution_count": 9,
   "metadata": {},
   "outputs": [
    {
     "output_type": "execute_result",
     "data": {
      "text/plain": [
       "' a=df_wifi_update[df_wifi_update[\"wifi\"] == \"9c:1c:12:2b:c3:f1\"]\\n\\ndf_val_counts = pd.DataFrame(a)\\ndf_value_counts_test = df_val_counts.reset_index()\\ndf_value_counts_test.columns = [\\'supprimer\\',\\'wifi\\',\\'id\\', \\'count\\'] \\ndf_value_counts_test=df_value_counts_test.drop(columns=[\"supprimer\"])\\n '"
      ]
     },
     "metadata": {},
     "execution_count": 9
    }
   ],
   "source": [
    "\"\"\" a=df_wifi_update[df_wifi_update[\"wifi\"] == \"9c:1c:12:2b:c3:f1\"]\n",
    "\n",
    "df_val_counts = pd.DataFrame(a)\n",
    "df_value_counts_test = df_val_counts.reset_index()\n",
    "df_value_counts_test.columns = ['supprimer','wifi','id', 'count'] \n",
    "df_value_counts_test=df_value_counts_test.drop(columns=[\"supprimer\"])\n",
    " \"\"\""
   ]
  },
  {
   "cell_type": "code",
   "execution_count": 10,
   "metadata": {},
   "outputs": [
    {
     "output_type": "execute_result",
     "data": {
      "text/plain": [
       "'df_value_counts_test'"
      ]
     },
     "metadata": {},
     "execution_count": 10
    }
   ],
   "source": [
    "\"\"\"df_value_counts_test\"\"\""
   ]
  },
  {
   "cell_type": "code",
   "execution_count": 11,
   "metadata": {},
   "outputs": [],
   "source": [
    "final = pd.DataFrame(columns = ['ID1', 'ID2', 'length','wifi'])"
   ]
  },
  {
   "cell_type": "code",
   "execution_count": 12,
   "metadata": {},
   "outputs": [],
   "source": [
    "s=0\n",
    "for wifi in range(len(df_value_counts)):\n",
    "    element= df_wifi_update[df_wifi_update[\"wifi\"] == df_value_counts['wifi_unique'][wifi]]\n",
    "    df_val_counts = pd.DataFrame(element)\n",
    "    df_value_counts_test = df_val_counts.reset_index()\n",
    "    df_value_counts_test.columns = ['supprimer','wifi','id', 'count'] \n",
    "    df_value_counts_test=df_value_counts_test.drop(columns=[\"supprimer\"])\n",
    "    for i in range(len(df_value_counts_test)):\n",
    "        j=i+1\n",
    "        while(j <len(df_value_counts_test)):\n",
    "            final.loc[s]=[df_value_counts_test[\"id\"][i],df_value_counts_test[\"id\"][j],min(df_value_counts_test[\"count\"][i],df_value_counts_test[\"count\"][j]),df_value_counts_test[\"wifi\"][i]]\n",
    "            j=j+1\n",
    "            s+=1\n",
    "\n",
    "        "
   ]
  },
  {
   "cell_type": "code",
   "execution_count": 13,
   "metadata": {},
   "outputs": [
    {
     "output_type": "execute_result",
     "data": {
      "text/plain": [
       "    ID1 ID2 length               wifi\n",
       "0     1   2     18  56:01:70:a4:17:84\n",
       "1     1   6     10  56:01:70:a4:17:84\n",
       "2     1   7      1  56:01:70:a4:17:84\n",
       "3     1   8    136  56:01:70:a4:17:84\n",
       "4     1  15    136  56:01:70:a4:17:84\n",
       "..   ..  ..    ...                ...\n",
       "844  14  25      2  f4:ca:e5:a8:59:62\n",
       "845  17  25     19  00:1d:6a:49:54:77\n",
       "846  19  24      8  a2:a1:d7:0f:af:bd\n",
       "847  15  17      2  00:78:9e:7c:64:00\n",
       "848  17  25      2  06:19:70:5d:cc:67\n",
       "\n",
       "[849 rows x 4 columns]"
      ],
      "text/html": "<div>\n<style scoped>\n    .dataframe tbody tr th:only-of-type {\n        vertical-align: middle;\n    }\n\n    .dataframe tbody tr th {\n        vertical-align: top;\n    }\n\n    .dataframe thead th {\n        text-align: right;\n    }\n</style>\n<table border=\"1\" class=\"dataframe\">\n  <thead>\n    <tr style=\"text-align: right;\">\n      <th></th>\n      <th>ID1</th>\n      <th>ID2</th>\n      <th>length</th>\n      <th>wifi</th>\n    </tr>\n  </thead>\n  <tbody>\n    <tr>\n      <th>0</th>\n      <td>1</td>\n      <td>2</td>\n      <td>18</td>\n      <td>56:01:70:a4:17:84</td>\n    </tr>\n    <tr>\n      <th>1</th>\n      <td>1</td>\n      <td>6</td>\n      <td>10</td>\n      <td>56:01:70:a4:17:84</td>\n    </tr>\n    <tr>\n      <th>2</th>\n      <td>1</td>\n      <td>7</td>\n      <td>1</td>\n      <td>56:01:70:a4:17:84</td>\n    </tr>\n    <tr>\n      <th>3</th>\n      <td>1</td>\n      <td>8</td>\n      <td>136</td>\n      <td>56:01:70:a4:17:84</td>\n    </tr>\n    <tr>\n      <th>4</th>\n      <td>1</td>\n      <td>15</td>\n      <td>136</td>\n      <td>56:01:70:a4:17:84</td>\n    </tr>\n    <tr>\n      <th>...</th>\n      <td>...</td>\n      <td>...</td>\n      <td>...</td>\n      <td>...</td>\n    </tr>\n    <tr>\n      <th>844</th>\n      <td>14</td>\n      <td>25</td>\n      <td>2</td>\n      <td>f4:ca:e5:a8:59:62</td>\n    </tr>\n    <tr>\n      <th>845</th>\n      <td>17</td>\n      <td>25</td>\n      <td>19</td>\n      <td>00:1d:6a:49:54:77</td>\n    </tr>\n    <tr>\n      <th>846</th>\n      <td>19</td>\n      <td>24</td>\n      <td>8</td>\n      <td>a2:a1:d7:0f:af:bd</td>\n    </tr>\n    <tr>\n      <th>847</th>\n      <td>15</td>\n      <td>17</td>\n      <td>2</td>\n      <td>00:78:9e:7c:64:00</td>\n    </tr>\n    <tr>\n      <th>848</th>\n      <td>17</td>\n      <td>25</td>\n      <td>2</td>\n      <td>06:19:70:5d:cc:67</td>\n    </tr>\n  </tbody>\n</table>\n<p>849 rows × 4 columns</p>\n</div>"
     },
     "metadata": {},
     "execution_count": 13
    }
   ],
   "source": [
    "final"
   ]
  },
  {
   "cell_type": "code",
   "execution_count": 23,
   "metadata": {},
   "outputs": [
    {
     "output_type": "execute_result",
     "data": {
      "text/plain": [
       "    ID1 ID2 length               wifi\n",
       "395   1   5    743  24:95:04:0d:fc:a4\n",
       "341   1   5    742  d2:95:04:0d:fc:a7\n",
       "443   1   5    742  d2:95:04:0d:fc:a5\n",
       "389   1   5    506  f4:ca:e5:e1:92:9c\n",
       "329   1   5    505  f4:ca:e5:e1:92:9d\n",
       "..   ..  ..    ...                ...\n",
       "613  19  23      1  40:18:b1:73:c7:94\n",
       "184   8  11      1  22:e8:a4:e8:fa:86\n",
       "705  19  23      1  40:18:b1:82:cb:d4\n",
       "773   1   2      1  d6:9f:bf:e9:ce:15\n",
       "111   6  17      1  0e:76:6b:29:10:48\n",
       "\n",
       "[849 rows x 4 columns]"
      ],
      "text/html": "<div>\n<style scoped>\n    .dataframe tbody tr th:only-of-type {\n        vertical-align: middle;\n    }\n\n    .dataframe tbody tr th {\n        vertical-align: top;\n    }\n\n    .dataframe thead th {\n        text-align: right;\n    }\n</style>\n<table border=\"1\" class=\"dataframe\">\n  <thead>\n    <tr style=\"text-align: right;\">\n      <th></th>\n      <th>ID1</th>\n      <th>ID2</th>\n      <th>length</th>\n      <th>wifi</th>\n    </tr>\n  </thead>\n  <tbody>\n    <tr>\n      <th>395</th>\n      <td>1</td>\n      <td>5</td>\n      <td>743</td>\n      <td>24:95:04:0d:fc:a4</td>\n    </tr>\n    <tr>\n      <th>341</th>\n      <td>1</td>\n      <td>5</td>\n      <td>742</td>\n      <td>d2:95:04:0d:fc:a7</td>\n    </tr>\n    <tr>\n      <th>443</th>\n      <td>1</td>\n      <td>5</td>\n      <td>742</td>\n      <td>d2:95:04:0d:fc:a5</td>\n    </tr>\n    <tr>\n      <th>389</th>\n      <td>1</td>\n      <td>5</td>\n      <td>506</td>\n      <td>f4:ca:e5:e1:92:9c</td>\n    </tr>\n    <tr>\n      <th>329</th>\n      <td>1</td>\n      <td>5</td>\n      <td>505</td>\n      <td>f4:ca:e5:e1:92:9d</td>\n    </tr>\n    <tr>\n      <th>...</th>\n      <td>...</td>\n      <td>...</td>\n      <td>...</td>\n      <td>...</td>\n    </tr>\n    <tr>\n      <th>613</th>\n      <td>19</td>\n      <td>23</td>\n      <td>1</td>\n      <td>40:18:b1:73:c7:94</td>\n    </tr>\n    <tr>\n      <th>184</th>\n      <td>8</td>\n      <td>11</td>\n      <td>1</td>\n      <td>22:e8:a4:e8:fa:86</td>\n    </tr>\n    <tr>\n      <th>705</th>\n      <td>19</td>\n      <td>23</td>\n      <td>1</td>\n      <td>40:18:b1:82:cb:d4</td>\n    </tr>\n    <tr>\n      <th>773</th>\n      <td>1</td>\n      <td>2</td>\n      <td>1</td>\n      <td>d6:9f:bf:e9:ce:15</td>\n    </tr>\n    <tr>\n      <th>111</th>\n      <td>6</td>\n      <td>17</td>\n      <td>1</td>\n      <td>0e:76:6b:29:10:48</td>\n    </tr>\n  </tbody>\n</table>\n<p>849 rows × 4 columns</p>\n</div>"
     },
     "metadata": {},
     "execution_count": 23
    }
   ],
   "source": [
    "final_sorted = final.sort_values(by=['length'], ascending=False)\n",
    "final_sorted"
   ]
  },
  {
   "cell_type": "code",
   "execution_count": 14,
   "metadata": {},
   "outputs": [],
   "source": [
    "resultt=pd.DataFrame({'Nbre-repeat' : final.groupby( [ \"ID1\", \"ID2\"] ).size()}).reset_index()\n",
    "\n",
    "result=final.groupby(['ID1', 'ID2']).sum()['length'].reset_index()"
   ]
  },
  {
   "cell_type": "code",
   "execution_count": 15,
   "metadata": {},
   "outputs": [
    {
     "output_type": "execute_result",
     "data": {
      "text/plain": [
       "    ID1  ID2  Nbre-repeat\n",
       "0     1    2           32\n",
       "1     1    5           18\n",
       "2     1    6           44\n",
       "3     1    7            7\n",
       "4     1    8           36\n",
       "..  ...  ...          ...\n",
       "65   17   25           27\n",
       "66   19   20            5\n",
       "67   19   23           13\n",
       "68   19   24           19\n",
       "69   20   25           30\n",
       "\n",
       "[70 rows x 3 columns]"
      ],
      "text/html": "<div>\n<style scoped>\n    .dataframe tbody tr th:only-of-type {\n        vertical-align: middle;\n    }\n\n    .dataframe tbody tr th {\n        vertical-align: top;\n    }\n\n    .dataframe thead th {\n        text-align: right;\n    }\n</style>\n<table border=\"1\" class=\"dataframe\">\n  <thead>\n    <tr style=\"text-align: right;\">\n      <th></th>\n      <th>ID1</th>\n      <th>ID2</th>\n      <th>Nbre-repeat</th>\n    </tr>\n  </thead>\n  <tbody>\n    <tr>\n      <th>0</th>\n      <td>1</td>\n      <td>2</td>\n      <td>32</td>\n    </tr>\n    <tr>\n      <th>1</th>\n      <td>1</td>\n      <td>5</td>\n      <td>18</td>\n    </tr>\n    <tr>\n      <th>2</th>\n      <td>1</td>\n      <td>6</td>\n      <td>44</td>\n    </tr>\n    <tr>\n      <th>3</th>\n      <td>1</td>\n      <td>7</td>\n      <td>7</td>\n    </tr>\n    <tr>\n      <th>4</th>\n      <td>1</td>\n      <td>8</td>\n      <td>36</td>\n    </tr>\n    <tr>\n      <th>...</th>\n      <td>...</td>\n      <td>...</td>\n      <td>...</td>\n    </tr>\n    <tr>\n      <th>65</th>\n      <td>17</td>\n      <td>25</td>\n      <td>27</td>\n    </tr>\n    <tr>\n      <th>66</th>\n      <td>19</td>\n      <td>20</td>\n      <td>5</td>\n    </tr>\n    <tr>\n      <th>67</th>\n      <td>19</td>\n      <td>23</td>\n      <td>13</td>\n    </tr>\n    <tr>\n      <th>68</th>\n      <td>19</td>\n      <td>24</td>\n      <td>19</td>\n    </tr>\n    <tr>\n      <th>69</th>\n      <td>20</td>\n      <td>25</td>\n      <td>30</td>\n    </tr>\n  </tbody>\n</table>\n<p>70 rows × 3 columns</p>\n</div>"
     },
     "metadata": {},
     "execution_count": 15
    }
   ],
   "source": [
    "resultt"
   ]
  },
  {
   "cell_type": "code",
   "execution_count": 16,
   "metadata": {},
   "outputs": [
    {
     "output_type": "execute_result",
     "data": {
      "text/plain": [
       "    ID1  ID2  length\n",
       "0     1    2     241\n",
       "1     1    5    5590\n",
       "2     1    6     193\n",
       "3     1    7      21\n",
       "4     1    8     507\n",
       "..  ...  ...     ...\n",
       "65   17   25     194\n",
       "66   19   20      12\n",
       "67   19   23      13\n",
       "68   19   24     737\n",
       "69   20   25      86\n",
       "\n",
       "[70 rows x 3 columns]"
      ],
      "text/html": "<div>\n<style scoped>\n    .dataframe tbody tr th:only-of-type {\n        vertical-align: middle;\n    }\n\n    .dataframe tbody tr th {\n        vertical-align: top;\n    }\n\n    .dataframe thead th {\n        text-align: right;\n    }\n</style>\n<table border=\"1\" class=\"dataframe\">\n  <thead>\n    <tr style=\"text-align: right;\">\n      <th></th>\n      <th>ID1</th>\n      <th>ID2</th>\n      <th>length</th>\n    </tr>\n  </thead>\n  <tbody>\n    <tr>\n      <th>0</th>\n      <td>1</td>\n      <td>2</td>\n      <td>241</td>\n    </tr>\n    <tr>\n      <th>1</th>\n      <td>1</td>\n      <td>5</td>\n      <td>5590</td>\n    </tr>\n    <tr>\n      <th>2</th>\n      <td>1</td>\n      <td>6</td>\n      <td>193</td>\n    </tr>\n    <tr>\n      <th>3</th>\n      <td>1</td>\n      <td>7</td>\n      <td>21</td>\n    </tr>\n    <tr>\n      <th>4</th>\n      <td>1</td>\n      <td>8</td>\n      <td>507</td>\n    </tr>\n    <tr>\n      <th>...</th>\n      <td>...</td>\n      <td>...</td>\n      <td>...</td>\n    </tr>\n    <tr>\n      <th>65</th>\n      <td>17</td>\n      <td>25</td>\n      <td>194</td>\n    </tr>\n    <tr>\n      <th>66</th>\n      <td>19</td>\n      <td>20</td>\n      <td>12</td>\n    </tr>\n    <tr>\n      <th>67</th>\n      <td>19</td>\n      <td>23</td>\n      <td>13</td>\n    </tr>\n    <tr>\n      <th>68</th>\n      <td>19</td>\n      <td>24</td>\n      <td>737</td>\n    </tr>\n    <tr>\n      <th>69</th>\n      <td>20</td>\n      <td>25</td>\n      <td>86</td>\n    </tr>\n  </tbody>\n</table>\n<p>70 rows × 3 columns</p>\n</div>"
     },
     "metadata": {},
     "execution_count": 16
    }
   ],
   "source": [
    "result"
   ]
  },
  {
   "cell_type": "code",
   "execution_count": 22,
   "metadata": {},
   "outputs": [
    {
     "output_type": "execute_result",
     "data": {
      "text/plain": [
       "    ID1  ID2  length\n",
       "1     1    5    5590\n",
       "55   14   21    2058\n",
       "68   19   24     737\n",
       "11    1   23     615\n",
       "24    5   23     601\n",
       "..  ...  ...     ...\n",
       "60   15   24       2\n",
       "49   11   25       2\n",
       "35    7   14       2\n",
       "15    2    7       1\n",
       "38    7   19       1\n",
       "\n",
       "[70 rows x 3 columns]"
      ],
      "text/html": "<div>\n<style scoped>\n    .dataframe tbody tr th:only-of-type {\n        vertical-align: middle;\n    }\n\n    .dataframe tbody tr th {\n        vertical-align: top;\n    }\n\n    .dataframe thead th {\n        text-align: right;\n    }\n</style>\n<table border=\"1\" class=\"dataframe\">\n  <thead>\n    <tr style=\"text-align: right;\">\n      <th></th>\n      <th>ID1</th>\n      <th>ID2</th>\n      <th>length</th>\n    </tr>\n  </thead>\n  <tbody>\n    <tr>\n      <th>1</th>\n      <td>1</td>\n      <td>5</td>\n      <td>5590</td>\n    </tr>\n    <tr>\n      <th>55</th>\n      <td>14</td>\n      <td>21</td>\n      <td>2058</td>\n    </tr>\n    <tr>\n      <th>68</th>\n      <td>19</td>\n      <td>24</td>\n      <td>737</td>\n    </tr>\n    <tr>\n      <th>11</th>\n      <td>1</td>\n      <td>23</td>\n      <td>615</td>\n    </tr>\n    <tr>\n      <th>24</th>\n      <td>5</td>\n      <td>23</td>\n      <td>601</td>\n    </tr>\n    <tr>\n      <th>...</th>\n      <td>...</td>\n      <td>...</td>\n      <td>...</td>\n    </tr>\n    <tr>\n      <th>60</th>\n      <td>15</td>\n      <td>24</td>\n      <td>2</td>\n    </tr>\n    <tr>\n      <th>49</th>\n      <td>11</td>\n      <td>25</td>\n      <td>2</td>\n    </tr>\n    <tr>\n      <th>35</th>\n      <td>7</td>\n      <td>14</td>\n      <td>2</td>\n    </tr>\n    <tr>\n      <th>15</th>\n      <td>2</td>\n      <td>7</td>\n      <td>1</td>\n    </tr>\n    <tr>\n      <th>38</th>\n      <td>7</td>\n      <td>19</td>\n      <td>1</td>\n    </tr>\n  </tbody>\n</table>\n<p>70 rows × 3 columns</p>\n</div>"
     },
     "metadata": {},
     "execution_count": 22
    }
   ],
   "source": [
    "result_sorted = result.sort_values(by=['length'], ascending=False)\n",
    "result_sorted"
   ]
  },
  {
   "cell_type": "code",
   "execution_count": 17,
   "metadata": {},
   "outputs": [],
   "source": [
    "\n",
    "import networkx as nx\n",
    "\n",
    "G = nx.from_pandas_edgelist(df=result, source='ID1', target='ID2', edge_attr='length')\n",
    "\n",
    "G.add_nodes_from(nodes_for_adding=result.ID1.tolist())"
   ]
  },
  {
   "cell_type": "code",
   "execution_count": 18,
   "metadata": {},
   "outputs": [
    {
     "output_type": "execute_result",
     "data": {
      "text/plain": [
       "EdgeDataView([(1, 2, {'length': 241}), (1, 5, {'length': 5590}), (1, 6, {'length': 193}), (1, 7, {'length': 21}), (1, 8, {'length': 507}), (1, 11, {'length': 31}), (1, 12, {'length': 204}), (1, 15, {'length': 561}), (1, 17, {'length': 219}), (1, 19, {'length': 10}), (1, 20, {'length': 42}), (1, 23, {'length': 615}), (1, 24, {'length': 111}), (1, 25, {'length': 6}), (2, 6, {'length': 130}), (2, 7, {'length': 1}), (2, 8, {'length': 94}), (2, 11, {'length': 7}), (2, 15, {'length': 52}), (2, 17, {'length': 133}), (2, 19, {'length': 14}), (2, 20, {'length': 8}), (2, 25, {'length': 32}), (5, 12, {'length': 96}), (5, 23, {'length': 601}), (6, 7, {'length': 54}), (6, 8, {'length': 84}), (6, 11, {'length': 7}), (6, 15, {'length': 68}), (6, 17, {'length': 116}), (6, 19, {'length': 4}), (6, 20, {'length': 73}), (6, 24, {'length': 7}), (6, 25, {'length': 45}), (7, 8, {'length': 7}), (7, 14, {'length': 2}), (7, 15, {'length': 47}), (7, 17, {'length': 3}), (7, 19, {'length': 1}), (7, 20, {'length': 133}), (8, 11, {'length': 4}), (8, 15, {'length': 564}), (8, 17, {'length': 110}), (8, 19, {'length': 6}), (8, 20, {'length': 14}), (8, 25, {'length': 6}), (11, 14, {'length': 8}), (11, 17, {'length': 7}), (11, 19, {'length': 6}), (11, 25, {'length': 2}), (12, 23, {'length': 99}), (15, 14, {'length': 86}), (15, 17, {'length': 312}), (15, 19, {'length': 4}), (15, 20, {'length': 64}), (15, 24, {'length': 2}), (15, 25, {'length': 266}), (17, 14, {'length': 30}), (17, 19, {'length': 12}), (17, 20, {'length': 66}), (17, 24, {'length': 4}), (17, 25, {'length': 194}), (19, 14, {'length': 62}), (19, 20, {'length': 12}), (19, 23, {'length': 13}), (19, 24, {'length': 737}), (20, 14, {'length': 44}), (20, 25, {'length': 86}), (25, 14, {'length': 116}), (14, 21, {'length': 2058})])"
      ]
     },
     "metadata": {},
     "execution_count": 18
    }
   ],
   "source": [
    "G.edges(data=True)"
   ]
  },
  {
   "cell_type": "code",
   "execution_count": 19,
   "metadata": {},
   "outputs": [
    {
     "output_type": "display_data",
     "data": {
      "text/plain": "<Figure size 432x288 with 1 Axes>",
      "image/svg+xml": "<?xml version=\"1.0\" encoding=\"utf-8\" standalone=\"no\"?>\r\n<!DOCTYPE svg PUBLIC \"-//W3C//DTD SVG 1.1//EN\"\r\n  \"http://www.w3.org/Graphics/SVG/1.1/DTD/svg11.dtd\">\r\n<!-- Created with matplotlib (https://matplotlib.org/) -->\r\n<svg height=\"302.4pt\" version=\"1.1\" viewBox=\"0 0 446.4 302.4\" width=\"446.4pt\" xmlns=\"http://www.w3.org/2000/svg\" xmlns:xlink=\"http://www.w3.org/1999/xlink\">\r\n <metadata>\r\n  <rdf:RDF xmlns:cc=\"http://creativecommons.org/ns#\" xmlns:dc=\"http://purl.org/dc/elements/1.1/\" xmlns:rdf=\"http://www.w3.org/1999/02/22-rdf-syntax-ns#\">\r\n   <cc:Work>\r\n    <dc:type rdf:resource=\"http://purl.org/dc/dcmitype/StillImage\"/>\r\n    <dc:date>2020-12-09T11:26:54.630871</dc:date>\r\n    <dc:format>image/svg+xml</dc:format>\r\n    <dc:creator>\r\n     <cc:Agent>\r\n      <dc:title>Matplotlib v3.3.3, https://matplotlib.org/</dc:title>\r\n     </cc:Agent>\r\n    </dc:creator>\r\n   </cc:Work>\r\n  </rdf:RDF>\r\n </metadata>\r\n <defs>\r\n  <style type=\"text/css\">*{stroke-linecap:butt;stroke-linejoin:round;}</style>\r\n </defs>\r\n <g id=\"figure_1\">\r\n  <g id=\"patch_1\">\r\n   <path d=\"M 0 302.4 \r\nL 446.4 302.4 \r\nL 446.4 0 \r\nL 0 0 \r\nz\r\n\" style=\"fill:#ffffff;\"/>\r\n  </g>\r\n  <g id=\"axes_1\">\r\n   <g id=\"LineCollection_1\">\r\n    <path clip-path=\"url(#p78a788d862)\" d=\"M 222.657464 225.641794 \r\nL 295.991291 232.566088 \r\n\" style=\"fill:none;stroke:#000000;\"/>\r\n    <path clip-path=\"url(#p78a788d862)\" d=\"M 222.657464 225.641794 \r\nL 41.387766 253.026935 \r\n\" style=\"fill:none;stroke:#000000;\"/>\r\n    <path clip-path=\"url(#p78a788d862)\" d=\"M 222.657464 225.641794 \r\nL 343.345374 258.132408 \r\n\" style=\"fill:none;stroke:#000000;\"/>\r\n    <path clip-path=\"url(#p78a788d862)\" d=\"M 222.657464 225.641794 \r\nL 303.641907 167.282782 \r\n\" style=\"fill:none;stroke:#000000;\"/>\r\n    <path clip-path=\"url(#p78a788d862)\" d=\"M 222.657464 225.641794 \r\nL 372.236336 238.526742 \r\n\" style=\"fill:none;stroke:#000000;\"/>\r\n    <path clip-path=\"url(#p78a788d862)\" d=\"M 222.657464 225.641794 \r\nL 311.30674 261.700554 \r\n\" style=\"fill:none;stroke:#000000;\"/>\r\n    <path clip-path=\"url(#p78a788d862)\" d=\"M 222.657464 225.641794 \r\nL 26.836364 201.8569 \r\n\" style=\"fill:none;stroke:#000000;\"/>\r\n    <path clip-path=\"url(#p78a788d862)\" d=\"M 222.657464 225.641794 \r\nL 308.291378 198.215725 \r\n\" style=\"fill:none;stroke:#000000;\"/>\r\n    <path clip-path=\"url(#p78a788d862)\" d=\"M 222.657464 225.641794 \r\nL 336.319421 217.24213 \r\n\" style=\"fill:none;stroke:#000000;\"/>\r\n    <path clip-path=\"url(#p78a788d862)\" d=\"M 222.657464 225.641794 \r\nL 258.266971 202.986524 \r\n\" style=\"fill:none;stroke:#000000;\"/>\r\n    <path clip-path=\"url(#p78a788d862)\" d=\"M 222.657464 225.641794 \r\nL 364.299625 184.470996 \r\n\" style=\"fill:none;stroke:#000000;\"/>\r\n    <path clip-path=\"url(#p78a788d862)\" d=\"M 222.657464 225.641794 \r\nL 101.075065 202.664345 \r\n\" style=\"fill:none;stroke:#000000;\"/>\r\n    <path clip-path=\"url(#p78a788d862)\" d=\"M 222.657464 225.641794 \r\nL 246.271787 282.109091 \r\n\" style=\"fill:none;stroke:#000000;\"/>\r\n    <path clip-path=\"url(#p78a788d862)\" d=\"M 222.657464 225.641794 \r\nL 400.539819 215.268845 \r\n\" style=\"fill:none;stroke:#000000;\"/>\r\n    <path clip-path=\"url(#p78a788d862)\" d=\"M 295.991291 232.566088 \r\nL 343.345374 258.132408 \r\n\" style=\"fill:none;stroke:#000000;\"/>\r\n    <path clip-path=\"url(#p78a788d862)\" d=\"M 295.991291 232.566088 \r\nL 303.641907 167.282782 \r\n\" style=\"fill:none;stroke:#000000;\"/>\r\n    <path clip-path=\"url(#p78a788d862)\" d=\"M 295.991291 232.566088 \r\nL 372.236336 238.526742 \r\n\" style=\"fill:none;stroke:#000000;\"/>\r\n    <path clip-path=\"url(#p78a788d862)\" d=\"M 295.991291 232.566088 \r\nL 311.30674 261.700554 \r\n\" style=\"fill:none;stroke:#000000;\"/>\r\n    <path clip-path=\"url(#p78a788d862)\" d=\"M 295.991291 232.566088 \r\nL 308.291378 198.215725 \r\n\" style=\"fill:none;stroke:#000000;\"/>\r\n    <path clip-path=\"url(#p78a788d862)\" d=\"M 295.991291 232.566088 \r\nL 336.319421 217.24213 \r\n\" style=\"fill:none;stroke:#000000;\"/>\r\n    <path clip-path=\"url(#p78a788d862)\" d=\"M 295.991291 232.566088 \r\nL 258.266971 202.986524 \r\n\" style=\"fill:none;stroke:#000000;\"/>\r\n    <path clip-path=\"url(#p78a788d862)\" d=\"M 295.991291 232.566088 \r\nL 364.299625 184.470996 \r\n\" style=\"fill:none;stroke:#000000;\"/>\r\n    <path clip-path=\"url(#p78a788d862)\" d=\"M 295.991291 232.566088 \r\nL 400.539819 215.268845 \r\n\" style=\"fill:none;stroke:#000000;\"/>\r\n    <path clip-path=\"url(#p78a788d862)\" d=\"M 41.387766 253.026935 \r\nL 26.836364 201.8569 \r\n\" style=\"fill:none;stroke:#000000;\"/>\r\n    <path clip-path=\"url(#p78a788d862)\" d=\"M 41.387766 253.026935 \r\nL 101.075065 202.664345 \r\n\" style=\"fill:none;stroke:#000000;\"/>\r\n    <path clip-path=\"url(#p78a788d862)\" d=\"M 343.345374 258.132408 \r\nL 303.641907 167.282782 \r\n\" style=\"fill:none;stroke:#000000;\"/>\r\n    <path clip-path=\"url(#p78a788d862)\" d=\"M 343.345374 258.132408 \r\nL 372.236336 238.526742 \r\n\" style=\"fill:none;stroke:#000000;\"/>\r\n    <path clip-path=\"url(#p78a788d862)\" d=\"M 343.345374 258.132408 \r\nL 311.30674 261.700554 \r\n\" style=\"fill:none;stroke:#000000;\"/>\r\n    <path clip-path=\"url(#p78a788d862)\" d=\"M 343.345374 258.132408 \r\nL 308.291378 198.215725 \r\n\" style=\"fill:none;stroke:#000000;\"/>\r\n    <path clip-path=\"url(#p78a788d862)\" d=\"M 343.345374 258.132408 \r\nL 336.319421 217.24213 \r\n\" style=\"fill:none;stroke:#000000;\"/>\r\n    <path clip-path=\"url(#p78a788d862)\" d=\"M 343.345374 258.132408 \r\nL 258.266971 202.986524 \r\n\" style=\"fill:none;stroke:#000000;\"/>\r\n    <path clip-path=\"url(#p78a788d862)\" d=\"M 343.345374 258.132408 \r\nL 364.299625 184.470996 \r\n\" style=\"fill:none;stroke:#000000;\"/>\r\n    <path clip-path=\"url(#p78a788d862)\" d=\"M 343.345374 258.132408 \r\nL 246.271787 282.109091 \r\n\" style=\"fill:none;stroke:#000000;\"/>\r\n    <path clip-path=\"url(#p78a788d862)\" d=\"M 343.345374 258.132408 \r\nL 400.539819 215.268845 \r\n\" style=\"fill:none;stroke:#000000;\"/>\r\n    <path clip-path=\"url(#p78a788d862)\" d=\"M 303.641907 167.282782 \r\nL 372.236336 238.526742 \r\n\" style=\"fill:none;stroke:#000000;\"/>\r\n    <path clip-path=\"url(#p78a788d862)\" d=\"M 303.641907 167.282782 \r\nL 368.937772 140.332949 \r\n\" style=\"fill:none;stroke:#000000;\"/>\r\n    <path clip-path=\"url(#p78a788d862)\" d=\"M 303.641907 167.282782 \r\nL 308.291378 198.215725 \r\n\" style=\"fill:none;stroke:#000000;\"/>\r\n    <path clip-path=\"url(#p78a788d862)\" d=\"M 303.641907 167.282782 \r\nL 336.319421 217.24213 \r\n\" style=\"fill:none;stroke:#000000;\"/>\r\n    <path clip-path=\"url(#p78a788d862)\" d=\"M 303.641907 167.282782 \r\nL 258.266971 202.986524 \r\n\" style=\"fill:none;stroke:#000000;\"/>\r\n    <path clip-path=\"url(#p78a788d862)\" d=\"M 303.641907 167.282782 \r\nL 364.299625 184.470996 \r\n\" style=\"fill:none;stroke:#000000;\"/>\r\n    <path clip-path=\"url(#p78a788d862)\" d=\"M 372.236336 238.526742 \r\nL 311.30674 261.700554 \r\n\" style=\"fill:none;stroke:#000000;\"/>\r\n    <path clip-path=\"url(#p78a788d862)\" d=\"M 372.236336 238.526742 \r\nL 308.291378 198.215725 \r\n\" style=\"fill:none;stroke:#000000;\"/>\r\n    <path clip-path=\"url(#p78a788d862)\" d=\"M 372.236336 238.526742 \r\nL 336.319421 217.24213 \r\n\" style=\"fill:none;stroke:#000000;\"/>\r\n    <path clip-path=\"url(#p78a788d862)\" d=\"M 372.236336 238.526742 \r\nL 258.266971 202.986524 \r\n\" style=\"fill:none;stroke:#000000;\"/>\r\n    <path clip-path=\"url(#p78a788d862)\" d=\"M 372.236336 238.526742 \r\nL 364.299625 184.470996 \r\n\" style=\"fill:none;stroke:#000000;\"/>\r\n    <path clip-path=\"url(#p78a788d862)\" d=\"M 372.236336 238.526742 \r\nL 400.539819 215.268845 \r\n\" style=\"fill:none;stroke:#000000;\"/>\r\n    <path clip-path=\"url(#p78a788d862)\" d=\"M 311.30674 261.700554 \r\nL 368.937772 140.332949 \r\n\" style=\"fill:none;stroke:#000000;\"/>\r\n    <path clip-path=\"url(#p78a788d862)\" d=\"M 311.30674 261.700554 \r\nL 336.319421 217.24213 \r\n\" style=\"fill:none;stroke:#000000;\"/>\r\n    <path clip-path=\"url(#p78a788d862)\" d=\"M 311.30674 261.700554 \r\nL 258.266971 202.986524 \r\n\" style=\"fill:none;stroke:#000000;\"/>\r\n    <path clip-path=\"url(#p78a788d862)\" d=\"M 311.30674 261.700554 \r\nL 400.539819 215.268845 \r\n\" style=\"fill:none;stroke:#000000;\"/>\r\n    <path clip-path=\"url(#p78a788d862)\" d=\"M 26.836364 201.8569 \r\nL 101.075065 202.664345 \r\n\" style=\"fill:none;stroke:#000000;\"/>\r\n    <path clip-path=\"url(#p78a788d862)\" d=\"M 308.291378 198.215725 \r\nL 368.937772 140.332949 \r\n\" style=\"fill:none;stroke:#000000;\"/>\r\n    <path clip-path=\"url(#p78a788d862)\" d=\"M 308.291378 198.215725 \r\nL 336.319421 217.24213 \r\n\" style=\"fill:none;stroke:#000000;\"/>\r\n    <path clip-path=\"url(#p78a788d862)\" d=\"M 308.291378 198.215725 \r\nL 258.266971 202.986524 \r\n\" style=\"fill:none;stroke:#000000;\"/>\r\n    <path clip-path=\"url(#p78a788d862)\" d=\"M 308.291378 198.215725 \r\nL 364.299625 184.470996 \r\n\" style=\"fill:none;stroke:#000000;\"/>\r\n    <path clip-path=\"url(#p78a788d862)\" d=\"M 308.291378 198.215725 \r\nL 246.271787 282.109091 \r\n\" style=\"fill:none;stroke:#000000;\"/>\r\n    <path clip-path=\"url(#p78a788d862)\" d=\"M 308.291378 198.215725 \r\nL 400.539819 215.268845 \r\n\" style=\"fill:none;stroke:#000000;\"/>\r\n    <path clip-path=\"url(#p78a788d862)\" d=\"M 336.319421 217.24213 \r\nL 368.937772 140.332949 \r\n\" style=\"fill:none;stroke:#000000;\"/>\r\n    <path clip-path=\"url(#p78a788d862)\" d=\"M 336.319421 217.24213 \r\nL 258.266971 202.986524 \r\n\" style=\"fill:none;stroke:#000000;\"/>\r\n    <path clip-path=\"url(#p78a788d862)\" d=\"M 336.319421 217.24213 \r\nL 364.299625 184.470996 \r\n\" style=\"fill:none;stroke:#000000;\"/>\r\n    <path clip-path=\"url(#p78a788d862)\" d=\"M 336.319421 217.24213 \r\nL 246.271787 282.109091 \r\n\" style=\"fill:none;stroke:#000000;\"/>\r\n    <path clip-path=\"url(#p78a788d862)\" d=\"M 336.319421 217.24213 \r\nL 400.539819 215.268845 \r\n\" style=\"fill:none;stroke:#000000;\"/>\r\n    <path clip-path=\"url(#p78a788d862)\" d=\"M 258.266971 202.986524 \r\nL 368.937772 140.332949 \r\n\" style=\"fill:none;stroke:#000000;\"/>\r\n    <path clip-path=\"url(#p78a788d862)\" d=\"M 258.266971 202.986524 \r\nL 364.299625 184.470996 \r\n\" style=\"fill:none;stroke:#000000;\"/>\r\n    <path clip-path=\"url(#p78a788d862)\" d=\"M 258.266971 202.986524 \r\nL 101.075065 202.664345 \r\n\" style=\"fill:none;stroke:#000000;\"/>\r\n    <path clip-path=\"url(#p78a788d862)\" d=\"M 258.266971 202.986524 \r\nL 246.271787 282.109091 \r\n\" style=\"fill:none;stroke:#000000;\"/>\r\n    <path clip-path=\"url(#p78a788d862)\" d=\"M 364.299625 184.470996 \r\nL 368.937772 140.332949 \r\n\" style=\"fill:none;stroke:#000000;\"/>\r\n    <path clip-path=\"url(#p78a788d862)\" d=\"M 364.299625 184.470996 \r\nL 400.539819 215.268845 \r\n\" style=\"fill:none;stroke:#000000;\"/>\r\n    <path clip-path=\"url(#p78a788d862)\" d=\"M 400.539819 215.268845 \r\nL 368.937772 140.332949 \r\n\" style=\"fill:none;stroke:#000000;\"/>\r\n    <path clip-path=\"url(#p78a788d862)\" d=\"M 368.937772 140.332949 \r\nL 419.563636 20.290909 \r\n\" style=\"fill:none;stroke:#000000;\"/>\r\n   </g>\r\n   <g id=\"PathCollection_1\">\r\n    <defs>\r\n     <path d=\"M 0 8.660254 \r\nC 2.296726 8.660254 4.499694 7.747755 6.123724 6.123724 \r\nC 7.747755 4.499694 8.660254 2.296726 8.660254 0 \r\nC 8.660254 -2.296726 7.747755 -4.499694 6.123724 -6.123724 \r\nC 4.499694 -7.747755 2.296726 -8.660254 0 -8.660254 \r\nC -2.296726 -8.660254 -4.499694 -7.747755 -6.123724 -6.123724 \r\nC -7.747755 -4.499694 -8.660254 -2.296726 -8.660254 0 \r\nC -8.660254 2.296726 -7.747755 4.499694 -6.123724 6.123724 \r\nC -4.499694 7.747755 -2.296726 8.660254 0 8.660254 \r\nz\r\n\" id=\"mbe683eff74\" style=\"stroke:#1f78b4;\"/>\r\n    </defs>\r\n    <g clip-path=\"url(#p78a788d862)\">\r\n     <use style=\"fill:#1f78b4;stroke:#1f78b4;\" x=\"222.657464\" xlink:href=\"#mbe683eff74\" y=\"225.641794\"/>\r\n     <use style=\"fill:#1f78b4;stroke:#1f78b4;\" x=\"295.991291\" xlink:href=\"#mbe683eff74\" y=\"232.566088\"/>\r\n     <use style=\"fill:#1f78b4;stroke:#1f78b4;\" x=\"41.387766\" xlink:href=\"#mbe683eff74\" y=\"253.026935\"/>\r\n     <use style=\"fill:#1f78b4;stroke:#1f78b4;\" x=\"343.345374\" xlink:href=\"#mbe683eff74\" y=\"258.132408\"/>\r\n     <use style=\"fill:#1f78b4;stroke:#1f78b4;\" x=\"303.641907\" xlink:href=\"#mbe683eff74\" y=\"167.282782\"/>\r\n     <use style=\"fill:#1f78b4;stroke:#1f78b4;\" x=\"372.236336\" xlink:href=\"#mbe683eff74\" y=\"238.526742\"/>\r\n     <use style=\"fill:#1f78b4;stroke:#1f78b4;\" x=\"311.30674\" xlink:href=\"#mbe683eff74\" y=\"261.700554\"/>\r\n     <use style=\"fill:#1f78b4;stroke:#1f78b4;\" x=\"26.836364\" xlink:href=\"#mbe683eff74\" y=\"201.8569\"/>\r\n     <use style=\"fill:#1f78b4;stroke:#1f78b4;\" x=\"308.291378\" xlink:href=\"#mbe683eff74\" y=\"198.215725\"/>\r\n     <use style=\"fill:#1f78b4;stroke:#1f78b4;\" x=\"336.319421\" xlink:href=\"#mbe683eff74\" y=\"217.24213\"/>\r\n     <use style=\"fill:#1f78b4;stroke:#1f78b4;\" x=\"258.266971\" xlink:href=\"#mbe683eff74\" y=\"202.986524\"/>\r\n     <use style=\"fill:#1f78b4;stroke:#1f78b4;\" x=\"364.299625\" xlink:href=\"#mbe683eff74\" y=\"184.470996\"/>\r\n     <use style=\"fill:#1f78b4;stroke:#1f78b4;\" x=\"101.075065\" xlink:href=\"#mbe683eff74\" y=\"202.664345\"/>\r\n     <use style=\"fill:#1f78b4;stroke:#1f78b4;\" x=\"246.271787\" xlink:href=\"#mbe683eff74\" y=\"282.109091\"/>\r\n     <use style=\"fill:#1f78b4;stroke:#1f78b4;\" x=\"400.539819\" xlink:href=\"#mbe683eff74\" y=\"215.268845\"/>\r\n     <use style=\"fill:#1f78b4;stroke:#1f78b4;\" x=\"368.937772\" xlink:href=\"#mbe683eff74\" y=\"140.332949\"/>\r\n     <use style=\"fill:#1f78b4;stroke:#1f78b4;\" x=\"419.563636\" xlink:href=\"#mbe683eff74\" y=\"20.290909\"/>\r\n    </g>\r\n   </g>\r\n   <g id=\"text_1\">\r\n    <g clip-path=\"url(#p78a788d862)\">\r\n     <!-- 1 -->\r\n     <g transform=\"translate(218.839964 228.953044)scale(0.12 -0.12)\">\r\n      <defs>\r\n       <path d=\"M 12.40625 8.296875 \r\nL 28.515625 8.296875 \r\nL 28.515625 63.921875 \r\nL 10.984375 60.40625 \r\nL 10.984375 69.390625 \r\nL 28.421875 72.90625 \r\nL 38.28125 72.90625 \r\nL 38.28125 8.296875 \r\nL 54.390625 8.296875 \r\nL 54.390625 0 \r\nL 12.40625 0 \r\nz\r\n\" id=\"DejaVuSans-49\"/>\r\n      </defs>\r\n      <use xlink:href=\"#DejaVuSans-49\"/>\r\n     </g>\r\n    </g>\r\n   </g>\r\n   <g id=\"text_2\">\r\n    <g clip-path=\"url(#p78a788d862)\">\r\n     <!-- 2 -->\r\n     <g transform=\"translate(292.173791 235.877338)scale(0.12 -0.12)\">\r\n      <defs>\r\n       <path d=\"M 19.1875 8.296875 \r\nL 53.609375 8.296875 \r\nL 53.609375 0 \r\nL 7.328125 0 \r\nL 7.328125 8.296875 \r\nQ 12.9375 14.109375 22.625 23.890625 \r\nQ 32.328125 33.6875 34.8125 36.53125 \r\nQ 39.546875 41.84375 41.421875 45.53125 \r\nQ 43.3125 49.21875 43.3125 52.78125 \r\nQ 43.3125 58.59375 39.234375 62.25 \r\nQ 35.15625 65.921875 28.609375 65.921875 \r\nQ 23.96875 65.921875 18.8125 64.3125 \r\nQ 13.671875 62.703125 7.8125 59.421875 \r\nL 7.8125 69.390625 \r\nQ 13.765625 71.78125 18.9375 73 \r\nQ 24.125 74.21875 28.421875 74.21875 \r\nQ 39.75 74.21875 46.484375 68.546875 \r\nQ 53.21875 62.890625 53.21875 53.421875 \r\nQ 53.21875 48.921875 51.53125 44.890625 \r\nQ 49.859375 40.875 45.40625 35.40625 \r\nQ 44.1875 33.984375 37.640625 27.21875 \r\nQ 31.109375 20.453125 19.1875 8.296875 \r\nz\r\n\" id=\"DejaVuSans-50\"/>\r\n      </defs>\r\n      <use xlink:href=\"#DejaVuSans-50\"/>\r\n     </g>\r\n    </g>\r\n   </g>\r\n   <g id=\"text_3\">\r\n    <g clip-path=\"url(#p78a788d862)\">\r\n     <!-- 5 -->\r\n     <g transform=\"translate(37.570266 256.338185)scale(0.12 -0.12)\">\r\n      <defs>\r\n       <path d=\"M 10.796875 72.90625 \r\nL 49.515625 72.90625 \r\nL 49.515625 64.59375 \r\nL 19.828125 64.59375 \r\nL 19.828125 46.734375 \r\nQ 21.96875 47.46875 24.109375 47.828125 \r\nQ 26.265625 48.1875 28.421875 48.1875 \r\nQ 40.625 48.1875 47.75 41.5 \r\nQ 54.890625 34.8125 54.890625 23.390625 \r\nQ 54.890625 11.625 47.5625 5.09375 \r\nQ 40.234375 -1.421875 26.90625 -1.421875 \r\nQ 22.3125 -1.421875 17.546875 -0.640625 \r\nQ 12.796875 0.140625 7.71875 1.703125 \r\nL 7.71875 11.625 \r\nQ 12.109375 9.234375 16.796875 8.0625 \r\nQ 21.484375 6.890625 26.703125 6.890625 \r\nQ 35.15625 6.890625 40.078125 11.328125 \r\nQ 45.015625 15.765625 45.015625 23.390625 \r\nQ 45.015625 31 40.078125 35.4375 \r\nQ 35.15625 39.890625 26.703125 39.890625 \r\nQ 22.75 39.890625 18.8125 39.015625 \r\nQ 14.890625 38.140625 10.796875 36.28125 \r\nz\r\n\" id=\"DejaVuSans-53\"/>\r\n      </defs>\r\n      <use xlink:href=\"#DejaVuSans-53\"/>\r\n     </g>\r\n    </g>\r\n   </g>\r\n   <g id=\"text_4\">\r\n    <g clip-path=\"url(#p78a788d862)\">\r\n     <!-- 6 -->\r\n     <g transform=\"translate(339.527874 261.443658)scale(0.12 -0.12)\">\r\n      <defs>\r\n       <path d=\"M 33.015625 40.375 \r\nQ 26.375 40.375 22.484375 35.828125 \r\nQ 18.609375 31.296875 18.609375 23.390625 \r\nQ 18.609375 15.53125 22.484375 10.953125 \r\nQ 26.375 6.390625 33.015625 6.390625 \r\nQ 39.65625 6.390625 43.53125 10.953125 \r\nQ 47.40625 15.53125 47.40625 23.390625 \r\nQ 47.40625 31.296875 43.53125 35.828125 \r\nQ 39.65625 40.375 33.015625 40.375 \r\nz\r\nM 52.59375 71.296875 \r\nL 52.59375 62.3125 \r\nQ 48.875 64.0625 45.09375 64.984375 \r\nQ 41.3125 65.921875 37.59375 65.921875 \r\nQ 27.828125 65.921875 22.671875 59.328125 \r\nQ 17.53125 52.734375 16.796875 39.40625 \r\nQ 19.671875 43.65625 24.015625 45.921875 \r\nQ 28.375 48.1875 33.59375 48.1875 \r\nQ 44.578125 48.1875 50.953125 41.515625 \r\nQ 57.328125 34.859375 57.328125 23.390625 \r\nQ 57.328125 12.15625 50.6875 5.359375 \r\nQ 44.046875 -1.421875 33.015625 -1.421875 \r\nQ 20.359375 -1.421875 13.671875 8.265625 \r\nQ 6.984375 17.96875 6.984375 36.375 \r\nQ 6.984375 53.65625 15.1875 63.9375 \r\nQ 23.390625 74.21875 37.203125 74.21875 \r\nQ 40.921875 74.21875 44.703125 73.484375 \r\nQ 48.484375 72.75 52.59375 71.296875 \r\nz\r\n\" id=\"DejaVuSans-54\"/>\r\n      </defs>\r\n      <use xlink:href=\"#DejaVuSans-54\"/>\r\n     </g>\r\n    </g>\r\n   </g>\r\n   <g id=\"text_5\">\r\n    <g clip-path=\"url(#p78a788d862)\">\r\n     <!-- 7 -->\r\n     <g transform=\"translate(299.824407 170.594032)scale(0.12 -0.12)\">\r\n      <defs>\r\n       <path d=\"M 8.203125 72.90625 \r\nL 55.078125 72.90625 \r\nL 55.078125 68.703125 \r\nL 28.609375 0 \r\nL 18.3125 0 \r\nL 43.21875 64.59375 \r\nL 8.203125 64.59375 \r\nz\r\n\" id=\"DejaVuSans-55\"/>\r\n      </defs>\r\n      <use xlink:href=\"#DejaVuSans-55\"/>\r\n     </g>\r\n    </g>\r\n   </g>\r\n   <g id=\"text_6\">\r\n    <g clip-path=\"url(#p78a788d862)\">\r\n     <!-- 8 -->\r\n     <g transform=\"translate(368.418836 241.837992)scale(0.12 -0.12)\">\r\n      <defs>\r\n       <path d=\"M 31.78125 34.625 \r\nQ 24.75 34.625 20.71875 30.859375 \r\nQ 16.703125 27.09375 16.703125 20.515625 \r\nQ 16.703125 13.921875 20.71875 10.15625 \r\nQ 24.75 6.390625 31.78125 6.390625 \r\nQ 38.8125 6.390625 42.859375 10.171875 \r\nQ 46.921875 13.96875 46.921875 20.515625 \r\nQ 46.921875 27.09375 42.890625 30.859375 \r\nQ 38.875 34.625 31.78125 34.625 \r\nz\r\nM 21.921875 38.8125 \r\nQ 15.578125 40.375 12.03125 44.71875 \r\nQ 8.5 49.078125 8.5 55.328125 \r\nQ 8.5 64.0625 14.71875 69.140625 \r\nQ 20.953125 74.21875 31.78125 74.21875 \r\nQ 42.671875 74.21875 48.875 69.140625 \r\nQ 55.078125 64.0625 55.078125 55.328125 \r\nQ 55.078125 49.078125 51.53125 44.71875 \r\nQ 48 40.375 41.703125 38.8125 \r\nQ 48.828125 37.15625 52.796875 32.3125 \r\nQ 56.78125 27.484375 56.78125 20.515625 \r\nQ 56.78125 9.90625 50.3125 4.234375 \r\nQ 43.84375 -1.421875 31.78125 -1.421875 \r\nQ 19.734375 -1.421875 13.25 4.234375 \r\nQ 6.78125 9.90625 6.78125 20.515625 \r\nQ 6.78125 27.484375 10.78125 32.3125 \r\nQ 14.796875 37.15625 21.921875 38.8125 \r\nz\r\nM 18.3125 54.390625 \r\nQ 18.3125 48.734375 21.84375 45.5625 \r\nQ 25.390625 42.390625 31.78125 42.390625 \r\nQ 38.140625 42.390625 41.71875 45.5625 \r\nQ 45.3125 48.734375 45.3125 54.390625 \r\nQ 45.3125 60.0625 41.71875 63.234375 \r\nQ 38.140625 66.40625 31.78125 66.40625 \r\nQ 25.390625 66.40625 21.84375 63.234375 \r\nQ 18.3125 60.0625 18.3125 54.390625 \r\nz\r\n\" id=\"DejaVuSans-56\"/>\r\n      </defs>\r\n      <use xlink:href=\"#DejaVuSans-56\"/>\r\n     </g>\r\n    </g>\r\n   </g>\r\n   <g id=\"text_7\">\r\n    <g clip-path=\"url(#p78a788d862)\">\r\n     <!-- 11 -->\r\n     <g transform=\"translate(303.67174 265.011804)scale(0.12 -0.12)\">\r\n      <use xlink:href=\"#DejaVuSans-49\"/>\r\n      <use x=\"63.623047\" xlink:href=\"#DejaVuSans-49\"/>\r\n     </g>\r\n    </g>\r\n   </g>\r\n   <g id=\"text_8\">\r\n    <g clip-path=\"url(#p78a788d862)\">\r\n     <!-- 12 -->\r\n     <g transform=\"translate(19.201364 205.16815)scale(0.12 -0.12)\">\r\n      <use xlink:href=\"#DejaVuSans-49\"/>\r\n      <use x=\"63.623047\" xlink:href=\"#DejaVuSans-50\"/>\r\n     </g>\r\n    </g>\r\n   </g>\r\n   <g id=\"text_9\">\r\n    <g clip-path=\"url(#p78a788d862)\">\r\n     <!-- 15 -->\r\n     <g transform=\"translate(300.656378 201.526975)scale(0.12 -0.12)\">\r\n      <use xlink:href=\"#DejaVuSans-49\"/>\r\n      <use x=\"63.623047\" xlink:href=\"#DejaVuSans-53\"/>\r\n     </g>\r\n    </g>\r\n   </g>\r\n   <g id=\"text_10\">\r\n    <g clip-path=\"url(#p78a788d862)\">\r\n     <!-- 17 -->\r\n     <g transform=\"translate(328.684421 220.55338)scale(0.12 -0.12)\">\r\n      <use xlink:href=\"#DejaVuSans-49\"/>\r\n      <use x=\"63.623047\" xlink:href=\"#DejaVuSans-55\"/>\r\n     </g>\r\n    </g>\r\n   </g>\r\n   <g id=\"text_11\">\r\n    <g clip-path=\"url(#p78a788d862)\">\r\n     <!-- 19 -->\r\n     <g transform=\"translate(250.631971 206.297774)scale(0.12 -0.12)\">\r\n      <defs>\r\n       <path d=\"M 10.984375 1.515625 \r\nL 10.984375 10.5 \r\nQ 14.703125 8.734375 18.5 7.8125 \r\nQ 22.3125 6.890625 25.984375 6.890625 \r\nQ 35.75 6.890625 40.890625 13.453125 \r\nQ 46.046875 20.015625 46.78125 33.40625 \r\nQ 43.953125 29.203125 39.59375 26.953125 \r\nQ 35.25 24.703125 29.984375 24.703125 \r\nQ 19.046875 24.703125 12.671875 31.3125 \r\nQ 6.296875 37.9375 6.296875 49.421875 \r\nQ 6.296875 60.640625 12.9375 67.421875 \r\nQ 19.578125 74.21875 30.609375 74.21875 \r\nQ 43.265625 74.21875 49.921875 64.515625 \r\nQ 56.59375 54.828125 56.59375 36.375 \r\nQ 56.59375 19.140625 48.40625 8.859375 \r\nQ 40.234375 -1.421875 26.421875 -1.421875 \r\nQ 22.703125 -1.421875 18.890625 -0.6875 \r\nQ 15.09375 0.046875 10.984375 1.515625 \r\nz\r\nM 30.609375 32.421875 \r\nQ 37.25 32.421875 41.125 36.953125 \r\nQ 45.015625 41.5 45.015625 49.421875 \r\nQ 45.015625 57.28125 41.125 61.84375 \r\nQ 37.25 66.40625 30.609375 66.40625 \r\nQ 23.96875 66.40625 20.09375 61.84375 \r\nQ 16.21875 57.28125 16.21875 49.421875 \r\nQ 16.21875 41.5 20.09375 36.953125 \r\nQ 23.96875 32.421875 30.609375 32.421875 \r\nz\r\n\" id=\"DejaVuSans-57\"/>\r\n      </defs>\r\n      <use xlink:href=\"#DejaVuSans-49\"/>\r\n      <use x=\"63.623047\" xlink:href=\"#DejaVuSans-57\"/>\r\n     </g>\r\n    </g>\r\n   </g>\r\n   <g id=\"text_12\">\r\n    <g clip-path=\"url(#p78a788d862)\">\r\n     <!-- 20 -->\r\n     <g transform=\"translate(356.664625 187.782246)scale(0.12 -0.12)\">\r\n      <defs>\r\n       <path d=\"M 31.78125 66.40625 \r\nQ 24.171875 66.40625 20.328125 58.90625 \r\nQ 16.5 51.421875 16.5 36.375 \r\nQ 16.5 21.390625 20.328125 13.890625 \r\nQ 24.171875 6.390625 31.78125 6.390625 \r\nQ 39.453125 6.390625 43.28125 13.890625 \r\nQ 47.125 21.390625 47.125 36.375 \r\nQ 47.125 51.421875 43.28125 58.90625 \r\nQ 39.453125 66.40625 31.78125 66.40625 \r\nz\r\nM 31.78125 74.21875 \r\nQ 44.046875 74.21875 50.515625 64.515625 \r\nQ 56.984375 54.828125 56.984375 36.375 \r\nQ 56.984375 17.96875 50.515625 8.265625 \r\nQ 44.046875 -1.421875 31.78125 -1.421875 \r\nQ 19.53125 -1.421875 13.0625 8.265625 \r\nQ 6.59375 17.96875 6.59375 36.375 \r\nQ 6.59375 54.828125 13.0625 64.515625 \r\nQ 19.53125 74.21875 31.78125 74.21875 \r\nz\r\n\" id=\"DejaVuSans-48\"/>\r\n      </defs>\r\n      <use xlink:href=\"#DejaVuSans-50\"/>\r\n      <use x=\"63.623047\" xlink:href=\"#DejaVuSans-48\"/>\r\n     </g>\r\n    </g>\r\n   </g>\r\n   <g id=\"text_13\">\r\n    <g clip-path=\"url(#p78a788d862)\">\r\n     <!-- 23 -->\r\n     <g transform=\"translate(93.440065 205.975595)scale(0.12 -0.12)\">\r\n      <defs>\r\n       <path d=\"M 40.578125 39.3125 \r\nQ 47.65625 37.796875 51.625 33 \r\nQ 55.609375 28.21875 55.609375 21.1875 \r\nQ 55.609375 10.40625 48.1875 4.484375 \r\nQ 40.765625 -1.421875 27.09375 -1.421875 \r\nQ 22.515625 -1.421875 17.65625 -0.515625 \r\nQ 12.796875 0.390625 7.625 2.203125 \r\nL 7.625 11.71875 \r\nQ 11.71875 9.328125 16.59375 8.109375 \r\nQ 21.484375 6.890625 26.8125 6.890625 \r\nQ 36.078125 6.890625 40.9375 10.546875 \r\nQ 45.796875 14.203125 45.796875 21.1875 \r\nQ 45.796875 27.640625 41.28125 31.265625 \r\nQ 36.765625 34.90625 28.71875 34.90625 \r\nL 20.21875 34.90625 \r\nL 20.21875 43.015625 \r\nL 29.109375 43.015625 \r\nQ 36.375 43.015625 40.234375 45.921875 \r\nQ 44.09375 48.828125 44.09375 54.296875 \r\nQ 44.09375 59.90625 40.109375 62.90625 \r\nQ 36.140625 65.921875 28.71875 65.921875 \r\nQ 24.65625 65.921875 20.015625 65.03125 \r\nQ 15.375 64.15625 9.8125 62.3125 \r\nL 9.8125 71.09375 \r\nQ 15.4375 72.65625 20.34375 73.4375 \r\nQ 25.25 74.21875 29.59375 74.21875 \r\nQ 40.828125 74.21875 47.359375 69.109375 \r\nQ 53.90625 64.015625 53.90625 55.328125 \r\nQ 53.90625 49.265625 50.4375 45.09375 \r\nQ 46.96875 40.921875 40.578125 39.3125 \r\nz\r\n\" id=\"DejaVuSans-51\"/>\r\n      </defs>\r\n      <use xlink:href=\"#DejaVuSans-50\"/>\r\n      <use x=\"63.623047\" xlink:href=\"#DejaVuSans-51\"/>\r\n     </g>\r\n    </g>\r\n   </g>\r\n   <g id=\"text_14\">\r\n    <g clip-path=\"url(#p78a788d862)\">\r\n     <!-- 24 -->\r\n     <g transform=\"translate(238.636787 285.420341)scale(0.12 -0.12)\">\r\n      <defs>\r\n       <path d=\"M 37.796875 64.3125 \r\nL 12.890625 25.390625 \r\nL 37.796875 25.390625 \r\nz\r\nM 35.203125 72.90625 \r\nL 47.609375 72.90625 \r\nL 47.609375 25.390625 \r\nL 58.015625 25.390625 \r\nL 58.015625 17.1875 \r\nL 47.609375 17.1875 \r\nL 47.609375 0 \r\nL 37.796875 0 \r\nL 37.796875 17.1875 \r\nL 4.890625 17.1875 \r\nL 4.890625 26.703125 \r\nz\r\n\" id=\"DejaVuSans-52\"/>\r\n      </defs>\r\n      <use xlink:href=\"#DejaVuSans-50\"/>\r\n      <use x=\"63.623047\" xlink:href=\"#DejaVuSans-52\"/>\r\n     </g>\r\n    </g>\r\n   </g>\r\n   <g id=\"text_15\">\r\n    <g clip-path=\"url(#p78a788d862)\">\r\n     <!-- 25 -->\r\n     <g transform=\"translate(392.904819 218.580095)scale(0.12 -0.12)\">\r\n      <use xlink:href=\"#DejaVuSans-50\"/>\r\n      <use x=\"63.623047\" xlink:href=\"#DejaVuSans-53\"/>\r\n     </g>\r\n    </g>\r\n   </g>\r\n   <g id=\"text_16\">\r\n    <g clip-path=\"url(#p78a788d862)\">\r\n     <!-- 14 -->\r\n     <g transform=\"translate(361.302772 143.644199)scale(0.12 -0.12)\">\r\n      <use xlink:href=\"#DejaVuSans-49\"/>\r\n      <use x=\"63.623047\" xlink:href=\"#DejaVuSans-52\"/>\r\n     </g>\r\n    </g>\r\n   </g>\r\n   <g id=\"text_17\">\r\n    <g clip-path=\"url(#p78a788d862)\">\r\n     <!-- 21 -->\r\n     <g transform=\"translate(411.928636 23.602159)scale(0.12 -0.12)\">\r\n      <use xlink:href=\"#DejaVuSans-50\"/>\r\n      <use x=\"63.623047\" xlink:href=\"#DejaVuSans-49\"/>\r\n     </g>\r\n    </g>\r\n   </g>\r\n  </g>\r\n </g>\r\n <defs>\r\n  <clipPath id=\"p78a788d862\">\r\n   <rect height=\"288\" width=\"432\" x=\"7.2\" y=\"7.2\"/>\r\n  </clipPath>\r\n </defs>\r\n</svg>\r\n",
      "image/png": "[encoded data removed]"
     },
     "metadata": {}
    }
   ],
   "source": [
    "weights = [i['length']/100 for i in dict(G.edges).values()]\n",
    "\n",
    "nx.draw(G, with_labels = True)"
   ]
  },
  {
   "cell_type": "code",
   "execution_count": 19,
   "metadata": {},
   "outputs": [],
   "source": [
    "\n"
   ]
  },
  {
   "cell_type": "code",
   "execution_count": null,
   "metadata": {},
   "outputs": [],
   "source": []
  }
 ],
 "metadata": {
  "kernelspec": {
   "display_name": "Python 3",
   "language": "python",
   "name": "python3"
  },
  "language_info": {
   "codemirror_mode": {
    "name": "ipython",
    "version": 3
   },
   "file_extension": ".py",
   "mimetype": "text/x-python",
   "name": "python",
   "nbconvert_exporter": "python",
   "pygments_lexer": "ipython3",
   "version": "3.9.0-final"
  }
 },
 "nbformat": 4,
 "nbformat_minor": 4
}